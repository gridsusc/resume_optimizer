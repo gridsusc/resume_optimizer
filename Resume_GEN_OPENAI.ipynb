{
 "cells": [
  {
   "cell_type": "code",
   "id": "initial_id",
   "metadata": {
    "collapsed": true,
    "ExecuteTime": {
     "end_time": "2025-04-24T20:46:33.451256Z",
     "start_time": "2025-04-24T20:46:32.761178Z"
    }
   },
   "source": [
    "# Import required libraries\n",
    "\n",
    "from langchain_core.output_parsers import StrOutputParser\n",
    "from langchain_core.prompts import ChatPromptTemplate, FewShotChatMessagePromptTemplate\n",
    "from langchain_openai import ChatOpenAI\n",
    "import json\n",
    "import os\n",
    "\n",
    "# You can use your own api key\n",
    "\n",
    "model = ChatOpenAI(\n",
    "    model_name=\"gpt-3.5-turbo\",  # or \"gpt-4\" for more advanced capabilities\n",
    "    temperature=0.1,\n",
    ")"
   ],
   "outputs": [],
   "execution_count": 1
  },
  {
   "metadata": {
    "ExecuteTime": {
     "end_time": "2025-04-24T20:46:33.458682Z",
     "start_time": "2025-04-24T20:46:33.455237Z"
    }
   },
   "cell_type": "code",
   "source": [
    "# Obtain job description\n",
    "from job_description import JOB_DESCRIPTION\n",
    "job_description = JOB_DESCRIPTION"
   ],
   "id": "16011d3a257650c9",
   "outputs": [],
   "execution_count": 2
  },
  {
   "metadata": {
    "ExecuteTime": {
     "end_time": "2025-04-24T20:46:33.494342Z",
     "start_time": "2025-04-24T20:46:33.490614Z"
    }
   },
   "cell_type": "code",
   "source": [
    "# Open and load the JSON file that used for template\n",
    "with open('resume-prompt.json', 'r') as file:\n",
    "    json_prompt = json.load(file)\n",
    "raw_resume_text = json.dumps(json_prompt, indent=2).replace(\"{\", \"{{\").replace(\"}\", \"}}\")\n"
   ],
   "id": "c850d92d84ff64cf",
   "outputs": [],
   "execution_count": 3
  },
  {
   "metadata": {
    "ExecuteTime": {
     "end_time": "2025-04-24T20:46:33.510481Z",
     "start_time": "2025-04-24T20:46:33.506948Z"
    }
   },
   "cell_type": "code",
   "source": [
    "# import the examples needed for few shot prompting\n",
    "from examples import RESUME_EXAMPLES\n",
    "\n",
    "# Example formatting for few-shot examples\n",
    "example_prompt = ChatPromptTemplate.from_messages([\n",
    "    (\"human\", \"{input}\"),\n",
    "    (\"ai\", \"{output}\")\n",
    "])\n",
    "\n",
    "few_shot_prompt = FewShotChatMessagePromptTemplate(\n",
    "    example_prompt=example_prompt,\n",
    "    examples=RESUME_EXAMPLES,\n",
    ")"
   ],
   "id": "1e801277d7895d39",
   "outputs": [],
   "execution_count": 4
  },
  {
   "metadata": {
    "ExecuteTime": {
     "end_time": "2025-04-24T20:46:33.518181Z",
     "start_time": "2025-04-24T20:46:33.515658Z"
    }
   },
   "cell_type": "code",
   "source": [
    "# Create the full prompt with few-shot examples included\n",
    "full_prompt = ChatPromptTemplate.from_messages([\n",
    "    (\"system\", \"You are a professional resume optimizer that helps improve resumes for ATS systems.\"),\n",
    "    few_shot_prompt,  # Include the few-shot examples as a message\n",
    "    (\"human\", \"\"\"\n",
    "Below is a flawed or unstructured resume, a job description the candidate is applying to, and some helpful context from other successful resumes.\n",
    "\n",
    "Use the job description and context to emphasize relevant skills and experiences. Your job is to rewrite and optimize the resume in valid JSON format aligned with ATS standards.\n",
    "\n",
    "--- RAW RESUME ---\n",
    "{raw_resume}\n",
    "\n",
    "--- JOB DESCRIPTION ---\n",
    "{job_description}\n",
    "\n",
    "Please generate the optimized JSON resume:\n",
    "\"\"\")\n",
    "])\n",
    "\n",
    "# Full chain with LLM and parser\n",
    "resume_optimizer_chain = full_prompt | model | StrOutputParser()\n",
    "\n"
   ],
   "id": "fda7f136a49d26f2",
   "outputs": [],
   "execution_count": 5
  },
  {
   "metadata": {
    "ExecuteTime": {
     "end_time": "2025-04-24T20:46:36.751031Z",
     "start_time": "2025-04-24T20:46:33.524075Z"
    }
   },
   "cell_type": "code",
   "source": [
    "# Invoke with real resume + JD\n",
    "optimized_resume_json = resume_optimizer_chain.invoke({\n",
    "    \"raw_resume\": raw_resume_text,\n",
    "    \"job_description\": job_description\n",
    "})\n",
    "\n",
    "# Print or save the result\n",
    "print(optimized_resume_json)"
   ],
   "id": "ee81d158084bd0e9",
   "outputs": [
    {
     "name": "stdout",
     "output_type": "stream",
     "text": [
      "{\n",
      "  \"$schema\": \"https://raw.githubusercontent.com/jsonresume/resume-schema/v1.0.0/schema.json\",\n",
      "  \"basics\": {\n",
      "    \"summary\": \"Experienced data scientist with a background in applied information theory and optimization. Skilled in developing algorithms, analyzing data trends, and communicating insights to stakeholders. Strong mathematical and statistical expertise with a creative and curious mindset.\"\n",
      "  },\n",
      "  \"work\": [\n",
      "    {\n",
      "      \"highlights\": [\n",
      "        \"Developed algorithm for copyright infringement detection in music industry\",\n",
      "        \"Won Techcrunch Disrupt competition\",\n",
      "        \"Optimized algorithm achieving world record for Weisman Scores\"\n",
      "      ]\n",
      "    }\n",
      "  ],\n",
      "  \"skills\": [\n",
      "    {\n",
      "      \"name\": \"Data Science\",\n",
      "      \"keywords\": [\n",
      "        \"Data Mining\",\n",
      "        \"Mathematics\",\n",
      "        \"Statistical Analysis\",\n",
      "        \"Pattern Recognition\",\n",
      "        \"Predictive Modeling\",\n",
      "        \"Excel\",\n",
      "        \"PowerPoint\",\n",
      "        \"Tableau\",\n",
      "        \"SQL\",\n",
      "        \"Python\",\n",
      "        \"Java\"\n",
      "      ]\n",
      "    }\n",
      "  ],\n",
      "  \"projects\": [\n",
      "    {\n",
      "      \"name\": \"Miss Direction\",\n",
      "      \"highlights\": [\n",
      "        \"Award winner at AIHacks 2016\",\n",
      "        \"Developed by diverse team with modern technologies like GoogleMaps and Javascript\"\n",
      "      ]\n",
      "    }\n",
      "  ]\n",
      "}\n"
     ]
    }
   ],
   "execution_count": 6
  },
  {
   "metadata": {
    "ExecuteTime": {
     "end_time": "2025-04-24T20:46:36.824489Z",
     "start_time": "2025-04-24T20:46:36.821764Z"
    }
   },
   "cell_type": "code",
   "source": [
    "# Save to a file\n",
    "with open(\"optimized_resume.json\", \"w\") as f:\n",
    "    f.write(optimized_resume_json)"
   ],
   "id": "3d9e740ba4d11fce",
   "outputs": [],
   "execution_count": 7
  }
 ],
 "metadata": {
  "kernelspec": {
   "display_name": "Python 3",
   "language": "python",
   "name": "python3"
  },
  "language_info": {
   "codemirror_mode": {
    "name": "ipython",
    "version": 2
   },
   "file_extension": ".py",
   "mimetype": "text/x-python",
   "name": "python",
   "nbconvert_exporter": "python",
   "pygments_lexer": "ipython2",
   "version": "2.7.6"
  }
 },
 "nbformat": 4,
 "nbformat_minor": 5
}
