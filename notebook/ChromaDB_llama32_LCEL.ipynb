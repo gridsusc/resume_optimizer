{
  "cells": [
    {
      "cell_type": "markdown",
      "id": "5bac2f0d",
      "metadata": {
        "id": "5bac2f0d",
        "papermill": {
          "duration": 0.010703,
          "end_time": "2023-11-07T23:38:48.894198",
          "exception": false,
          "start_time": "2023-11-07T23:38:48.883495",
          "status": "completed"
        },
        "tags": []
      },
      "source": [
        "# Install and load the libraries."
      ]
    },
    {
      "cell_type": "code",
      "execution_count": 1,
      "id": "1ecaf9c5",
      "metadata": {
        "_kg_hide-output": true,
        "colab": {
          "base_uri": "https://localhost:8080/"
        },
        "execution": {
          "iopub.execute_input": "2023-11-07T23:38:48.918551Z",
          "iopub.status.busy": "2023-11-07T23:38:48.917508Z",
          "iopub.status.idle": "2023-11-07T23:40:10.466442Z",
          "shell.execute_reply": "2023-11-07T23:40:10.465295Z"
        },
        "id": "1ecaf9c5",
        "outputId": "502a6e6e-4523-4d89-9e73-46c37693417c",
        "papermill": {
          "duration": 81.563917,
          "end_time": "2023-11-07T23:40:10.469187",
          "exception": false,
          "start_time": "2023-11-07T23:38:48.90527",
          "status": "completed"
        },
        "scrolled": true,
        "tags": []
      },
      "outputs": [],
      "source": [
        "!pip install -q chromadb==0.4.22\n",
        "!pip install -q langchain==0.1.4\n",
        "!pip install -q sentence_transformers==2.3.0\n",
        "!pip install -q accelerate==0.26.1"
      ]
    },
    {
      "cell_type": "markdown",
      "id": "f407d757",
      "metadata": {
        "id": "f407d757",
        "papermill": {
          "duration": 0.022555,
          "end_time": "2023-11-07T23:40:10.609309",
          "exception": false,
          "start_time": "2023-11-07T23:40:10.586754",
          "status": "completed"
        },
        "tags": []
      },
      "source": [
        "# Load the Dataset"
      ]
    },
    {
      "cell_type": "code",
      "execution_count": 2,
      "id": "09ea9d7c",
      "metadata": {
        "execution": {
          "iopub.execute_input": "2023-11-07T23:40:10.558175Z",
          "iopub.status.busy": "2023-11-07T23:40:10.55769Z",
          "iopub.status.idle": "2023-11-07T23:40:10.562952Z",
          "shell.execute_reply": "2023-11-07T23:40:10.561864Z"
        },
        "id": "09ea9d7c",
        "papermill": {
          "duration": 0.030688,
          "end_time": "2023-11-07T23:40:10.565135",
          "exception": false,
          "start_time": "2023-11-07T23:40:10.534447",
          "status": "completed"
        },
        "tags": []
      },
      "outputs": [],
      "source": [
        "import numpy as np\n",
        "import pandas as pd"
      ]
    },
    {
      "cell_type": "code",
      "execution_count": null,
      "id": "34403557",
      "metadata": {
        "execution": {
          "iopub.execute_input": "2023-11-07T23:40:10.653256Z",
          "iopub.status.busy": "2023-11-07T23:40:10.652861Z",
          "iopub.status.idle": "2023-11-07T23:40:11.635339Z",
          "shell.execute_reply": "2023-11-07T23:40:11.634406Z"
        },
        "id": "34403557",
        "papermill": {
          "duration": 1.007443,
          "end_time": "2023-11-07T23:40:11.637872",
          "exception": false,
          "start_time": "2023-11-07T23:40:10.630429",
          "status": "completed"
        },
        "tags": []
      },
      "outputs": [],
      "source": [
        "#Download and unzip  the dataset from kaggle:\n",
        "#https://www.kaggle.com/datasets/snehaanbhawal/resume-dataset?resource=download\n",
        "\n",
        "#Pass the directory where the .csv file is stored to read_csv\n",
        "resumes = pd.read_csv('../data/Resume.csv', sep=',')\n",
        "\n",
        "#Using plain text resumes for simplicity\n",
        "DOCUMENT=\"Resume_str\" #Replace with \"Resume_html\" for HTML resumes\n",
        "CATEGORY=\"Category\"\n",
        "ID=\"ID\""
      ]
    },
    {
      "cell_type": "code",
      "execution_count": 4,
      "id": "169f5c74",
      "metadata": {},
      "outputs": [
        {
          "data": {
            "text/html": [
              "<div>\n",
              "<style scoped>\n",
              "    .dataframe tbody tr th:only-of-type {\n",
              "        vertical-align: middle;\n",
              "    }\n",
              "\n",
              "    .dataframe tbody tr th {\n",
              "        vertical-align: top;\n",
              "    }\n",
              "\n",
              "    .dataframe thead th {\n",
              "        text-align: right;\n",
              "    }\n",
              "</style>\n",
              "<table border=\"1\" class=\"dataframe\">\n",
              "  <thead>\n",
              "    <tr style=\"text-align: right;\">\n",
              "      <th></th>\n",
              "      <th>ID</th>\n",
              "      <th>Resume_str</th>\n",
              "      <th>Resume_html</th>\n",
              "      <th>Category</th>\n",
              "    </tr>\n",
              "  </thead>\n",
              "  <tbody>\n",
              "    <tr>\n",
              "      <th>0</th>\n",
              "      <td>16852973</td>\n",
              "      <td>HR ADMINISTRATOR/MARKETING ASSOCIATE\\...</td>\n",
              "      <td>&lt;div class=\"fontsize fontface vmargins hmargin...</td>\n",
              "      <td>HR</td>\n",
              "    </tr>\n",
              "    <tr>\n",
              "      <th>1</th>\n",
              "      <td>22323967</td>\n",
              "      <td>HR SPECIALIST, US HR OPERATIONS      ...</td>\n",
              "      <td>&lt;div class=\"fontsize fontface vmargins hmargin...</td>\n",
              "      <td>HR</td>\n",
              "    </tr>\n",
              "  </tbody>\n",
              "</table>\n",
              "</div>"
            ],
            "text/plain": [
              "         ID                                         Resume_str  \\\n",
              "0  16852973           HR ADMINISTRATOR/MARKETING ASSOCIATE\\...   \n",
              "1  22323967           HR SPECIALIST, US HR OPERATIONS      ...   \n",
              "\n",
              "                                         Resume_html Category  \n",
              "0  <div class=\"fontsize fontface vmargins hmargin...       HR  \n",
              "1  <div class=\"fontsize fontface vmargins hmargin...       HR  "
            ]
          },
          "execution_count": 4,
          "metadata": {},
          "output_type": "execute_result"
        }
      ],
      "source": [
        "resumes.head(2)"
      ]
    },
    {
      "cell_type": "code",
      "execution_count": 5,
      "id": "b1f30ab1",
      "metadata": {},
      "outputs": [
        {
          "name": "stdout",
          "output_type": "stream",
          "text": [
            "Categories: ['HR' 'DESIGNER' 'INFORMATION-TECHNOLOGY' 'TEACHER' 'ADVOCATE'\n",
            " 'BUSINESS-DEVELOPMENT' 'HEALTHCARE' 'FITNESS' 'AGRICULTURE' 'BPO' 'SALES'\n",
            " 'CONSULTANT' 'DIGITAL-MEDIA' 'AUTOMOBILE' 'CHEF' 'FINANCE' 'APPAREL'\n",
            " 'ENGINEERING' 'ACCOUNTANT' 'CONSTRUCTION' 'PUBLIC-RELATIONS' 'BANKING'\n",
            " 'ARTS' 'AVIATION']\n"
          ]
        }
      ],
      "source": [
        "#Show distinct resume categories\n",
        "categories = resumes[CATEGORY].unique()\n",
        "print(f\"Categories: {categories}\")"
      ]
    },
    {
      "cell_type": "code",
      "execution_count": 6,
      "id": "dbd559e2",
      "metadata": {},
      "outputs": [],
      "source": [
        "#Because it is just a example we select a small portion of resumes\n",
        "#Per the 3/11/25 meeting, we'll focus on tech resumes\n",
        "CATEGORY = \"INFORMATION-TECHNOLOGY\"\n",
        "subset_resumes = resumes[resumes[\"Category\"] == CATEGORY].reset_index(drop=True)"
      ]
    },
    {
      "cell_type": "code",
      "execution_count": 7,
      "id": "87b2f5bd",
      "metadata": {
        "colab": {
          "base_uri": "https://localhost:8080/",
          "height": 112
        },
        "execution": {
          "iopub.execute_input": "2023-11-07T23:40:11.682843Z",
          "iopub.status.busy": "2023-11-07T23:40:11.682429Z",
          "iopub.status.idle": "2023-11-07T23:40:11.703593Z",
          "shell.execute_reply": "2023-11-07T23:40:11.702566Z"
        },
        "id": "87b2f5bd",
        "outputId": "86a30252-add3-4455-9d81-23b1ecae7598",
        "papermill": {
          "duration": 0.046286,
          "end_time": "2023-11-07T23:40:11.705855",
          "exception": false,
          "start_time": "2023-11-07T23:40:11.659569",
          "status": "completed"
        },
        "tags": []
      },
      "outputs": [
        {
          "data": {
            "text/html": [
              "<div>\n",
              "<style scoped>\n",
              "    .dataframe tbody tr th:only-of-type {\n",
              "        vertical-align: middle;\n",
              "    }\n",
              "\n",
              "    .dataframe tbody tr th {\n",
              "        vertical-align: top;\n",
              "    }\n",
              "\n",
              "    .dataframe thead th {\n",
              "        text-align: right;\n",
              "    }\n",
              "</style>\n",
              "<table border=\"1\" class=\"dataframe\">\n",
              "  <thead>\n",
              "    <tr style=\"text-align: right;\">\n",
              "      <th></th>\n",
              "      <th>ID</th>\n",
              "      <th>Resume_str</th>\n",
              "      <th>Resume_html</th>\n",
              "      <th>Category</th>\n",
              "    </tr>\n",
              "  </thead>\n",
              "  <tbody>\n",
              "    <tr>\n",
              "      <th>0</th>\n",
              "      <td>36856210</td>\n",
              "      <td>INFORMATION TECHNOLOGY         Summar...</td>\n",
              "      <td>&lt;div class=\"fontsize fontface vmargins hmargin...</td>\n",
              "      <td>INFORMATION-TECHNOLOGY</td>\n",
              "    </tr>\n",
              "    <tr>\n",
              "      <th>1</th>\n",
              "      <td>21780877</td>\n",
              "      <td>INFORMATION TECHNOLOGY SPECIALIST\\tGS...</td>\n",
              "      <td>&lt;div class=\"fontsize fontface vmargins hmargin...</td>\n",
              "      <td>INFORMATION-TECHNOLOGY</td>\n",
              "    </tr>\n",
              "  </tbody>\n",
              "</table>\n",
              "</div>"
            ],
            "text/plain": [
              "         ID                                         Resume_str  \\\n",
              "0  36856210           INFORMATION TECHNOLOGY         Summar...   \n",
              "1  21780877           INFORMATION TECHNOLOGY SPECIALIST\\tGS...   \n",
              "\n",
              "                                         Resume_html                Category  \n",
              "0  <div class=\"fontsize fontface vmargins hmargin...  INFORMATION-TECHNOLOGY  \n",
              "1  <div class=\"fontsize fontface vmargins hmargin...  INFORMATION-TECHNOLOGY  "
            ]
          },
          "execution_count": 7,
          "metadata": {},
          "output_type": "execute_result"
        }
      ],
      "source": [
        "subset_resumes.head(2)"
      ]
    },
    {
      "cell_type": "markdown",
      "id": "25ef4e81",
      "metadata": {
        "id": "25ef4e81",
        "papermill": {
          "duration": 0.021487,
          "end_time": "2023-11-07T23:40:11.748796",
          "exception": false,
          "start_time": "2023-11-07T23:40:11.727309",
          "status": "completed"
        },
        "tags": []
      },
      "source": [
        "## CREATE THE DOCUMENT FROM THE DATAFRAME"
      ]
    },
    {
      "cell_type": "code",
      "execution_count": 8,
      "id": "4c6f1238",
      "metadata": {
        "execution": {
          "iopub.execute_input": "2023-11-07T23:40:11.793285Z",
          "iopub.status.busy": "2023-11-07T23:40:11.792911Z",
          "iopub.status.idle": "2023-11-07T23:40:12.353535Z",
          "shell.execute_reply": "2023-11-07T23:40:12.352343Z"
        },
        "id": "4c6f1238",
        "papermill": {
          "duration": 0.585876,
          "end_time": "2023-11-07T23:40:12.35627",
          "exception": false,
          "start_time": "2023-11-07T23:40:11.770394",
          "status": "completed"
        },
        "tags": []
      },
      "outputs": [],
      "source": [
        "from langchain.document_loaders import DataFrameLoader\n",
        "from langchain.vectorstores import Chroma\n"
      ]
    },
    {
      "cell_type": "markdown",
      "id": "eb88b124",
      "metadata": {
        "id": "eb88b124",
        "papermill": {
          "duration": 0.021508,
          "end_time": "2023-11-07T23:40:12.399239",
          "exception": false,
          "start_time": "2023-11-07T23:40:12.377731",
          "status": "completed"
        },
        "tags": []
      },
      "source": [
        "First, we create the loader, indicating the data source and the name of the column in the DataFrame where we store what we could consider as the document, that is, the information we want to pass to the model so that it takes it into account in its responses."
      ]
    },
    {
      "cell_type": "code",
      "execution_count": 9,
      "id": "78614daa",
      "metadata": {
        "execution": {
          "iopub.execute_input": "2023-11-07T23:40:12.444219Z",
          "iopub.status.busy": "2023-11-07T23:40:12.443484Z",
          "iopub.status.idle": "2023-11-07T23:40:12.449168Z",
          "shell.execute_reply": "2023-11-07T23:40:12.447976Z"
        },
        "id": "78614daa",
        "papermill": {
          "duration": 0.030632,
          "end_time": "2023-11-07T23:40:12.451276",
          "exception": false,
          "start_time": "2023-11-07T23:40:12.420644",
          "status": "completed"
        },
        "tags": []
      },
      "outputs": [],
      "source": [
        "df_loader = DataFrameLoader(subset_resumes, page_content_column=DOCUMENT)"
      ]
    },
    {
      "cell_type": "markdown",
      "id": "e777e3ec",
      "metadata": {
        "id": "e777e3ec",
        "papermill": {
          "duration": 0.02084,
          "end_time": "2023-11-07T23:40:12.4936",
          "exception": false,
          "start_time": "2023-11-07T23:40:12.47276",
          "status": "completed"
        },
        "tags": []
      },
      "source": [
        "Then, we use the loader to load the document."
      ]
    },
    {
      "cell_type": "code",
      "execution_count": 10,
      "id": "1d0b81fd",
      "metadata": {
        "execution": {
          "iopub.execute_input": "2023-11-07T23:40:12.537857Z",
          "iopub.status.busy": "2023-11-07T23:40:12.537404Z",
          "iopub.status.idle": "2023-11-07T23:40:12.652204Z",
          "shell.execute_reply": "2023-11-07T23:40:12.650913Z"
        },
        "id": "1d0b81fd",
        "papermill": {
          "duration": 0.140406,
          "end_time": "2023-11-07T23:40:12.65498",
          "exception": false,
          "start_time": "2023-11-07T23:40:12.514574",
          "status": "completed"
        },
        "tags": []
      },
      "outputs": [],
      "source": [
        "df_document = df_loader.load()"
      ]
    },
    {
      "cell_type": "code",
      "execution_count": 11,
      "id": "948950f7",
      "metadata": {
        "_kg_hide-output": true,
        "colab": {
          "base_uri": "https://localhost:8080/",
          "height": 121
        },
        "execution": {
          "iopub.execute_input": "2023-11-07T23:40:12.700437Z",
          "iopub.status.busy": "2023-11-07T23:40:12.699647Z",
          "iopub.status.idle": "2023-11-07T23:40:12.759691Z",
          "shell.execute_reply": "2023-11-07T23:40:12.758871Z"
        },
        "id": "948950f7",
        "outputId": "9b1ccdff-c919-4cc7-a9f3-205f2228d494",
        "papermill": {
          "duration": 0.10378,
          "end_time": "2023-11-07T23:40:12.780315",
          "exception": false,
          "start_time": "2023-11-07T23:40:12.676535",
          "status": "completed"
        },
        "scrolled": true,
        "tags": []
      },
      "outputs": [
        {
          "data": {
            "text/plain": [
              "[Document(page_content=\"         INFORMATION TECHNOLOGY         Summary     Dedicated  Information Assurance Professional \\xa0well-versed in analyzing and mitigating risk and finding cost-effective solutions. Excels at boosting performance and productivity by establishing realistic goals and enforcing deadlines.\\xa0 Versatile IT professional with 37 years of Enterprise design and engineering methodology.       Skills          Enterprise platforms  Knowledge of Product Lifecycle Management (PLM)  Project tracking  Hardware and software upgrade planning  Product requirements documentation  Self-directed  MS Visio  Decisive  Collaborative  Domain Active Directory Layout  Data storage engineering      Information Assurance  Risk Management Framework (RMF)  Active Directory design and deployment  Workstation build and deployment  Systems Accreditation Packages  Red Hat Enterprise Linux installation and hardening  Network Design & Troubleshooting  \\xa0High Performance Computing            Experience      Company Name    City  ,   State    Information Technology   02/2011   to   Current        I was hired to manage accreditation\\nefforts for a major department modernization project involving 3\\naccreditation packages each leading to successful Authorization To\\nOperate decisions.  Responsibilities then increased to include all\\ndepartmental accreditation efforts leading to another 3 successful\\nATOs.  Now, working on 4 new accreditation including\\nre-authorization for an existing project.  Succeeded in writing and\\nimplementing vulnerability management for existing accredited\\nsystems.\\n\\n\\n\\n\\n\\nSuccess\\nof the accreditation hinged on coordination with ONI Enterprise in\\ncritical design decisions and to help the program integrate smoothly\\ninto the Enterprise thru many meetings, analyzing the Enterprise\\nbusiness model to understand the best fit for the program.\\n\\n\\n\\n\\n\\nThe\\ndifferent projects required careful management of specific STIG\\ncompliance and hardening for the different configurations and\\nservices required for the specific domain to be integrated.\\xa0\\xa0 Analyzed complex computer systems to assess vulnerability and risk.\\xa0\\xa0  Supervised  5  external computer consultants and vendors.\\xa0\\xa0  Managed application patches, data backup, security changes and network configuration.           Company Name    City  ,   State    Systems Engineer   02/2006   to   02/2011        I was Hired\\nto initiate processing strategies in fulfilling department analyst requirements.  Requirements were fulfilled thru i dentifying product problems and strengths and collected data on customer experience\\xa0 and review of Enterprise compliance to transition to new\\ntechnology for supporting new processing needs thru proper processing\\npower.\\xa0 The next challenge\\xa0 came as storage requirements for better performance and more\\ncontrolled uses.  After careful study of local infrastructure design, a local storage with off the shelf solutions was\\nadopted to grow local storage to over 200TB.  In using this solution,\\nthe department saved just over a million dollars in purchasing and\\nmaintenance costs compared to the alternative. Next came requirements to improve processing of future big data formats fulfilled in a Red Hat Linux high compute cluster I designed, purchased and\\naccredited for operation in the Enterprise.\\xa0 Improvement on big data analytical processing reduced time from\\n30 hours to 30 minutes as well as allow for more robust data thru\\nhigher selections of sensors, frequencies and range than allowed thru\\nthe traditional process.         Company Name    City  ,   State    Senior Systems Analyst   02/1999   to   02/2006        I was hired to improve corporate and\\nclient communications and processing requirements which resulted in\\nthe design, build and deployment of 3 Enterprise network solutions.  One\\nsolution resulted in expanding capabilities to supporting Washington\\nNavy Yard, Norfolk Virginia and Hawaii support facilities. \\n\\n\\n\\n\\n\\n\\nFulfilled\\nrequirements for detecting crucial network software/hardware\\nweaknesses and developing preventive strategies and solutions for\\navoiding interruptions and increasing system security thru\\ndocumenting system layouts, wiring diagrams and addressing schema to\\nunderstand layouts and make informed solutions to upper management.\\n\\n\\n\\n          Education and Training      Associate of Science  :  Electronic Engineering   1980     Florence Darlington Technical School  ,   City  ,   State       Electronic Engineering.\\xa0\\xa0   Dean's\\xa0list for high GPA.\\xa0     Class President for second year          Skills        Active Directory  Hardware Engineering  Information Technology  Red Hat Enterprise Linux Servers  MS Windows Servers  MS Windows Desktop  Network Design & Troubleshooting  Architectural Diagrams  Accreditation Boundarys  Risk Management  Enterprise Strategies  Vendor Relations   Desktop Publishing Software: Photoshop, Illustrator, HTML  Team Work  Collaboration     \", metadata={'ID': 36856210, 'Resume_html': '<div class=\"fontsize fontface vmargins hmargins linespacing pagesize\" id=\"document\"> <div class=\"section firstsection\" id=\"SECTION_NAME1010430031\" style=\"padding-top:0px;\"> <div class=\"paragraph PARAGRAPH_NAME firstparagraph\" id=\"PARAGRAPH_1010430031_1_670657207\" style=\"padding-top:0px;\"> <div class=\"name thinbottomborder\" itemprop=\"name\"> <span class=\"field\" id=\"1010430031FNAM1\"> </span> <span> </span> <span class=\"field\" id=\"1010430031LNAM1\"> INFORMATION TECHNOLOGY</span> </div> <div class=\"botBorder\"> </div> </div> </div> <div class=\"section\" id=\"SECTION_SUMM1010430033\" style=\"padding-top:0px;\"> <div class=\"heading\"> <div class=\"sectiontitle\" id=\"SECTNAME_SUMM1010430033\"> Summary</div> </div> <div class=\"paragraph firstparagraph\" id=\"PARAGRAPH_1010430033_1_670673671\" style=\"padding-top:0px;\"> <div class=\"field singlecolumn\" id=\"1010430033FRFM1\"> <span class=\"\"> Dedicated <font color=\"#000\" style=\"color: rgb(0, 0, 0);\"> Information Assurance Professional</font> \\xa0well-versed in analyzing and mitigating risk and finding cost-effective solutions. Excels at boosting performance and productivity by establishing realistic goals and enforcing deadlines.\\xa0 Versatile IT professional with 37 years of Enterprise design and engineering methodology.</span> </div> </div> </div> <div class=\"section\" id=\"SECTION_HILT1010430034\" style=\"padding-top:0px;\"> <div class=\"heading\"> <div class=\"sectiontitle\" id=\"SECTNAME_HILT1010430034\"> Skills</div> </div> <div class=\"paragraph firstparagraph\" id=\"PARAGRAPH_1010430034_1_670657723\" style=\"padding-top:0px;\"> <div class=\"singlecolumn maincolumn\"> <table class=\"twocol\"> <tbody> <tr> <td class=\"field twocol_1\" id=\"1010430034SKC11\"> <ul> <li class=\"\"> Enterprise platforms</li> <li class=\"\"> Knowledge of Product Lifecycle Management (PLM)</li> <li class=\"\"> Project tracking</li> <li class=\"\"> Hardware and software upgrade planning</li> <li class=\"\"> Product requirements documentation</li> <li class=\"\"> Self-directed</li> <li class=\"\"> MS Visio</li> <li class=\"\"> Decisive</li> <li class=\"\"> Collaborative</li> <li class=\"\"> Domain Active Directory Layout</li> <li class=\"\"> Data storage engineering</li> </ul> </td> <td class=\"field twocol_2\" id=\"1010430034SKC21\"> <ul> <li> Information Assurance</li> <li> Risk Management Framework (RMF)</li> <li> Active Directory design and deployment</li> <li> Workstation build and deployment</li> <li> Systems Accreditation Packages</li> <li> Red Hat Enterprise Linux installation and hardening</li> <li> Network Design &amp; Troubleshooting</li> <li> \\xa0High Performance Computing</li> </ul> </td> </tr> </tbody> </table> </div> </div> </div> <div class=\"section\" id=\"SECTION_EXPR1010430035\" style=\"padding-top:0px;\"> <div class=\"heading\"> <div class=\"sectiontitle\" id=\"SECTNAME_EXPR1010430035\"> Experience</div> </div> <div class=\"paragraph firstparagraph\" id=\"PARAGRAPH_1010430035_1_670657211\" itemscope=\"\" itemtype=\"https://schema.org/Organization\" style=\"padding-top:0px;\"> <div class=\"singlecolumn\"> <span class=\"paddedline txtCenter\"> <span class=\"companyname\" id=\"1010430035COMP1\" itemprop=\"name\"> Company Name</span> </span> <span class=\"paddedline txtCenter\" itemscope=\"\" itemtype=\"https://schema.org/postalAddress\"> <span class=\"joblocation jobcity\" id=\"1010430035JCIT1\" itemprop=\"addressLocality\"> City</span> <span> , </span> <span class=\"joblocation jobstate\" id=\"1010430035JSTA1\" itemprop=\"addressRegion\"> State</span> </span> <span class=\"paddedline\"> <span class=\"jobtitle\" id=\"1010430035JTIT1\"> Information Technology</span> <span class=\"datesWrapper\"> <span class=\"jobdates\" format=\"%m/%Y\" id=\"1010430035JSTD1\"> 02/2011</span> <span>  to </span> <span class=\"jobdates\" format=\"%m/%Y\" id=\"1010430035EDDT1\"> Current</span> </span> </span> <span class=\"paddedline\"> <span class=\"jobline txtLeft\" id=\"1010430035JDES1\" itemprop=\"description\"> <div> </div> <div> I was hired to manage accreditation\\nefforts for a major department modernization project involving 3\\naccreditation packages each leading to successful Authorization To\\nOperate decisions.  Responsibilities then increased to include all\\ndepartmental accreditation efforts leading to another 3 successful\\nATOs.  Now, working on 4 new accreditation including\\nre-authorization for an existing project.  Succeeded in writing and\\nimplementing vulnerability management for existing accredited\\nsystems.\\n\\n\\n\\n\\n\\nSuccess\\nof the accreditation hinged on coordination with ONI Enterprise in\\ncritical design decisions and to help the program integrate smoothly\\ninto the Enterprise thru many meetings, analyzing the Enterprise\\nbusiness model to understand the best fit for the program.\\n\\n\\n\\n\\n\\nThe\\ndifferent projects required careful management of specific STIG\\ncompliance and hardening for the different configurations and\\nservices required for the specific domain to be integrated.\\xa0\\xa0<span class=\"\"> Analyzed complex computer systems to assess vulnerability and risk.\\xa0\\xa0</span> <span class=\"\"> Supervised <font color=\"#000\" style=\"color: rgb(0, 0, 0);\"> 5</font>  external computer consultants and vendors.\\xa0\\xa0</span> <span class=\"\"> Managed application patches, data backup, security changes and network configuration. </span> </div> </span> </span> </div> </div> <div class=\"paragraph\" id=\"PARAGRAPH_1010430035_2_670657212\" itemscope=\"\" itemtype=\"https://schema.org/Organization\" style=\"padding-top:0px;\"> <div class=\"singlecolumn\"> <span class=\"paddedline txtCenter\"> <span class=\"companyname\" id=\"1010430035COMP2\" itemprop=\"name\"> Company Name</span> </span> <span class=\"paddedline txtCenter\" itemscope=\"\" itemtype=\"https://schema.org/postalAddress\"> <span class=\"joblocation jobcity\" id=\"1010430035JCIT2\" itemprop=\"addressLocality\"> City</span> <span> , </span> <span class=\"joblocation jobstate\" id=\"1010430035JSTA2\" itemprop=\"addressRegion\"> State</span> </span> <span class=\"paddedline\"> <span class=\"jobtitle\" id=\"1010430035JTIT2\"> Systems Engineer</span> <span class=\"datesWrapper\"> <span class=\"jobdates\" format=\"%m/%Y\" id=\"1010430035JSTD2\"> 02/2006</span> <span>  to </span> <span class=\"jobdates\" format=\"%m/%Y\" id=\"1010430035EDDT2\"> 02/2011</span> </span> </span> <span class=\"paddedline\"> <span class=\"jobline txtLeft\" id=\"1010430035JDES2\" itemprop=\"description\"> <div> </div> <div> I was Hired\\nto initiate processing strategies in fulfilling department analyst requirements.  Requirements were fulfilled thru i<span class=\"\"> dentifying product problems and strengths and collected data on customer experience\\xa0</span> and review of Enterprise compliance to transition to new\\ntechnology for supporting new processing needs thru proper processing\\npower.\\xa0 The next challenge\\xa0 came as storage requirements for better performance and more\\ncontrolled uses.  After careful study of local infrastructure design, a local storage with off the shelf solutions was\\nadopted to grow local storage to over 200TB.  In using this solution,\\nthe department saved just over a million dollars in purchasing and\\nmaintenance costs compared to the alternative. Next came requirements to improve processing of future big data formats fulfilled in a Red Hat Linux high compute cluster I designed, purchased and\\naccredited for operation in the Enterprise.\\xa0 Improvement on big data analytical processing reduced time from\\n30 hours to 30 minutes as well as allow for more robust data thru\\nhigher selections of sensors, frequencies and range than allowed thru\\nthe traditional process.</div> </span> </span> </div> </div> <div class=\"paragraph\" id=\"PARAGRAPH_1010430035_3_670657213\" itemscope=\"\" itemtype=\"https://schema.org/Organization\" style=\"padding-top:0px;\"> <div class=\"singlecolumn\"> <span class=\"paddedline txtCenter\"> <span class=\"companyname\" id=\"1010430035COMP3\" itemprop=\"name\"> Company Name</span> </span> <span class=\"paddedline txtCenter\" itemscope=\"\" itemtype=\"https://schema.org/postalAddress\"> <span class=\"joblocation jobcity\" id=\"1010430035JCIT3\" itemprop=\"addressLocality\"> City</span> <span> , </span> <span class=\"joblocation jobstate\" id=\"1010430035JSTA3\" itemprop=\"addressRegion\"> State</span> </span> <span class=\"paddedline\"> <span class=\"jobtitle\" id=\"1010430035JTIT3\"> Senior Systems Analyst</span> <span class=\"datesWrapper\"> <span class=\"jobdates\" format=\"%m/%Y\" id=\"1010430035JSTD3\"> 02/1999</span> <span>  to </span> <span class=\"jobdates\" format=\"%m/%Y\" id=\"1010430035EDDT3\"> 02/2006</span> </span> </span> <span class=\"paddedline\"> <span class=\"jobline txtLeft\" id=\"1010430035JDES3\" itemprop=\"description\"> <div> </div> <div> I was hired to improve corporate and\\nclient communications and processing requirements which resulted in\\nthe design, build and deployment of 3 Enterprise network solutions.  One\\nsolution resulted in expanding capabilities to supporting Washington\\nNavy Yard, Norfolk Virginia and Hawaii support facilities. \\n\\n\\n\\n\\n\\n\\nFulfilled\\nrequirements for detecting crucial network software/hardware\\nweaknesses and developing preventive strategies and solutions for\\navoiding interruptions and increasing system security thru\\ndocumenting system layouts, wiring diagrams and addressing schema to\\nunderstand layouts and make informed solutions to upper management.\\n\\n\\n\\n<br/> </div> </span> </span> </div> </div> </div> <div class=\"section\" id=\"SECTION_EDUC1010430036\" style=\"padding-top:0px;\"> <div class=\"heading\"> <div class=\"sectiontitle\" id=\"SECTNAME_EDUC1010430036\"> Education and Training</div> </div> <div class=\"paragraph firstparagraph\" id=\"PARAGRAPH_1010430036_1_670657216\" itemscope=\"\" itemtype=\"https://schema.org/EducationalOrganization\" style=\"padding-top:0px;\"> <div class=\"singlecolumn\"> <span class=\"paddedline\" itemprop=\"description\"> <span class=\"degree\" dependency=\"DGRE\" id=\"1010430036DGRE1\" itemprop=\"name\"> Associate of Science</span> <span> :</span> <span class=\"programline\" dependency=\"STUY\" id=\"1010430036STUY1\"> Electronic Engineering</span> <span class=\"datesWrapper\"> <span class=\"jobdates\" id=\"1010430036GRYR1\"> 1980</span> </span> </span> <span class=\"paddedline\"> <span class=\"companyname companyname_educ\" id=\"1010430036SCHO1\" itemprop=\"name\"> Florence Darlington Technical School</span> <span> , </span> <span class=\"joblocation jobcity\" id=\"1010430036SCIT1\"> City</span> <span> , </span> <span class=\"joblocation jobstate\" id=\"1010430036SSTA1\"> State</span> <span class=\"joblocation jobstate\" id=\"1010430036SCNT1\"> </span> </span> <span class=\"paddedline\"> <span class=\"field\" id=\"1010430036FRFM1\"> <div> Electronic Engineering.\\xa0\\xa0</div> <div> <font color=\"#000\" style=\"\"> Dean\\'s\\xa0list for high GPA.\\xa0 </font> </div> <div> <font color=\"#000\" style=\"\"> Class President for second year</font> </div> </span> </span> </div> </div> </div> <div class=\"section\" id=\"SECTION_SKLL1010430048\" style=\"padding-top:0px;\"> <div class=\"heading\"> <div class=\"sectiontitle\" id=\"SECTNAME_SKLL1010430048\"> Skills</div> </div> <div class=\"paragraph firstparagraph\" id=\"PARAGRAPH_1010430048_1_670657222\" style=\"padding-top:0px;\"> <div class=\"field singlecolumn\" id=\"1010430048FRFM1\"> <div> </div> <ul> <li> Active Directory</li> <li> Hardware Engineering</li> <li> Information Technology</li> <li> Red Hat Enterprise Linux Servers</li> <li> MS Windows Servers</li> <li> MS Windows Desktop</li> <li> Network Design &amp; Troubleshooting</li> <li> Architectural Diagrams</li> <li> Accreditation Boundarys</li> <li> Risk Management</li> <li> Enterprise Strategies</li> <li> Vendor Relations </li> <li> Desktop Publishing Software: Photoshop, Illustrator, HTML</li> <li> Team Work</li> <li> Collaboration</li> </ul> </div> </div> </div> </div>', 'Category': 'INFORMATION-TECHNOLOGY'}),\n",
              " Document(page_content=\"         INFORMATION TECHNOLOGY SPECIALIST\\tGS11             Experience     07/2004   to   Current     Information Technology Specialist\\tGS11    Company Name   －   City  ,   State      Information Technology Specialist; Supervison; Project Management; Circuit Management; Licensed Electrician; Alarm management; Alarm Technician; Training; Supply; Quality Assurance Kevin L.  Trostle, DSN 266-4800, COMM.  865) 336-4800\\nManage the assigned IT/communications environment with privileged access at the network level for the Wing, Geographically Separated Units (GSU), and Tenants.  Plan, coordinate, install, and continuously analyze system design, hardware and software.  Develop, recommend, and install solutions and upgrades to ensure availability, integrity, efficiency, and reliability of all components of the assigned system.  Ensure all performed work is captured in the Remedy ticketing system.  Manage Telecommunications and NIPR networks for the Wing, GSU's, and tenant units.  Continually plan, install, and analyze new hardware, software and processes to ensure networks are reliable and efficient.  Serve as a focal point for ensuring functionality and operability of the assigned IT/data systems/functions, voice, and wireless systems to support mission requirements.  Optimize, analyze, manage, and direct installation of any new hardware or software introduced into the environment to ensure its compatibility with existing architecture, its reliability, and functionality in relation to the organization's business requirements.  Oversee and initiate corrective or preventative measures to rectify immediate problems and prevent future occurrences through the CFP.  Troubleshoot and diagnose system failures to isolate source of problems.  Provide customer technical assistance/support for all users.  Provide management with information necessary to address difficult/complex problems.  Review purchase requests, SOW's ensuring documentation is sufficient to justify enhancements to keep systems current.  Work with the CFP/customers to resolve integration or configuration related issues.  Ensure upgrades to the base IT infrastructure are identified.  Assist customers in developing/submitting recommendations for equipment and funds.  Assist personnel in planning/developing new or additional infrastructure/architecture capabilities.  Coordinate efforts between system customers, support personnel, commercial vendors to identify/resolve system anomalies.  Conduct feasibility studies to identify and analyze system failures and analyzes data to determine if trends exist which forecast the need for future replacement or modification of system hardware and software.  As budget constraints dictate, evaluates alternative means of satisfying user requirements and provides management with the most technically feasible and cost efficient approaches to meet changing needs.  Keep abreast of changes in technology to assist management in preparing for future enhancements.         02/2001   to   Current     Cyber Transport/ Client Systems Workcenter Supervisor    Company Name   －   City  ,   State      Kevin L.  Trostle, DSN 266-4800, COMM.  865) 336-4800\\nManage Cyber Transport/Client Systems work center personnel.  Set and adjust work priorities, evaluate, and counsel subordinates.  Document training of personnel using Computer based training system (TBA)\\nSustain and operate systems through effective troubleshooting, repair, PMI's, system performance testing/analysis.  Systems include network infrastructure equipment, cabling, voice systems, video systems, small computers, and printers\\nMaintain close working relationship with Communications Focal Point--production requirements/Remedy tickets.         07/1996   to   07/2000     F-16 Ejection System Technician    Company Name   －   City  ,   State      Ronald Buckman, COMM.  803) 895-1190 \\nTroubleshot, removed, tested, inspected, repaired, modified, and installed explosive and non-explosive components and assemblies on ejection systems.  Performed preventative maintenance on over ninety different electronically fired explosive devices ensuring proper wiring and termination.  Foreign object damage monitor, briefed wing commander monthly on findings.  Ran entire supply system ensuring all parts and supplies were readily available.  Hazardous materials monitor.  Explosive inspector.  Ensured proper grounding points were present in shop to prevent electrostatic discharge to explosive components.  Section workgroup manager in charge of maintaining computers and ensured needed software was installed.  Shop computer security monitor.  Trained and supervised personnel.  Quality Assurance Assessor.          Education and Training     JUN 1996     HS Diploma  :   General Studies    Brockport High School   －   City  ,   State      General Studies       MAY 2003     BS Degree  :   Electrical Engineering    University of TN   －   City  ,   State      Electrical Engineering       November 1996     USAF, Electronic Principles, June 2002 to August 2002; USAF, Telephone Systems Apprentice Course, September 2002 to December 2002; USAF, Aircrew Egress Systems Apprentice Course      Numerous certificates for web-based training on LAN fundamentals, routers, topologies, cisco networking, etc.        Interests    While stationed in South Carolina performed three years of volunteer electrical work for Habitat for Humanity.  While doing this work I learned the fundamentals of wiring a house for electric, cable, and telephone.      Skills    budget, cabling, cisco, hardware, Client, documentation, Electrician, feasibility studies, funds, Information Technology, inspector, LAN, materials, access, network, networking, networks, personnel, Telephone Systems, printers, processes, Project Management, Quality Assurance, routers, system design, technical assistance, Technician, Telecommunications, Troubleshoot, troubleshooting, upgrades, video, wiring      Additional Information      AWARDS:\\nSuperior Performer, 2nd Quarter 2003;  USAF Achievement Medal, June 2000; Humanitarian Service Medal, January 1998; 20 CRS Maintenance Professional of the Year, 1998; Airman of the Quarter, May 1997; Airman of the Month, March 1997; Airman of the Month, February 1997\\nOTHER INFORMATION:\\nWhile stationed in South Carolina performed three years of volunteer electrical work for Habitat for Humanity.  While doing this work I learned the fundamentals of wiring a house for electric, cable, and telephone.     \", metadata={'ID': 21780877, 'Resume_html': '<div class=\"fontsize fontface vmargins hmargins linespacing pagesize\" id=\"document\"> <div class=\"section firstsection\" id=\"SECTION_NAME950154892\" style=\"padding-top:0px;\"> <div class=\"paragraph PARAGRAPH_NAME firstparagraph\" id=\"PARAGRAPH_950154892_1_626199185\" style=\"padding-top:0px;\"> <div class=\"name thinbottomborder\" itemprop=\"name\"> <span class=\"field fName\" id=\"950154892FNAM1\"> </span> <span> </span> <span class=\"field\" id=\"950154892LNAM1\"> INFORMATION TECHNOLOGY SPECIALIST\\tGS11</span> </div> </div> </div> <div class=\"section\" id=\"SECTION_SUMM950154906\" style=\"padding-top:0px;\"> </div> <div class=\"section\" id=\"SECTION_HILT950154907\" style=\"padding-top:0px;\"> </div> <div class=\"section\" id=\"SECTION_ACCM950155223\" style=\"padding-top:0px;\"> </div> <div class=\"section\" id=\"SECTION_EXPR950154894\" style=\"padding-top:0px;\"> <div class=\"heading\"> <div class=\"sectiontitle\" id=\"SECTNAME_EXPR950154894\"> Experience</div> </div> <div class=\"paragraph firstparagraph\" id=\"PARAGRAPH_950154894_1_626199187\" itemscope=\"\" itemtype=\"https://schema.org/Organization\" style=\"padding-top:0px;\"> <span class=\"dates_wrapper\"> <span class=\"jobdates\" format=\"%m/%Y\" id=\"950154894JSTD1\"> 07/2004</span> <span>  to </span> <span class=\"jobdates\" format=\"%m/%Y\" id=\"950154894EDDT1\"> Current</span> </span> <div class=\"singlecolumn\"> <span class=\"paddedline\"> <span class=\"jobtitle\" id=\"950154894JTIT1\"> Information Technology Specialist\\tGS11</span> </span> <span class=\"paddedline\" itemscope=\"\" itemtype=\"https://schema.org/postalAddress\"> <span class=\"companyname\" id=\"950154894COMP1\" itemprop=\"name\"> Company Name</span> <span>  － </span> <span class=\"joblocation jobcity\" id=\"950154894JCIT1\" itemprop=\"addressLocality\"> City</span> <span> , </span> <span class=\"joblocation jobstate\" id=\"950154894JSTA1\" itemprop=\"addressRegion\"> State</span> </span> <span class=\"paddedline\"> <span class=\"jobline\" id=\"950154894JDES1\" itemprop=\"description\"> <ul> <li> Information Technology Specialist; Supervison; Project Management; Circuit Management; Licensed Electrician; Alarm management; Alarm Technician; Training; Supply; Quality Assurance Kevin L.</li> <li> Trostle, DSN 266-4800, COMM.</li> <li> 865) 336-4800\\nManage the assigned IT/communications environment with privileged access at the network level for the Wing, Geographically Separated Units (GSU), and Tenants.</li> <li> Plan, coordinate, install, and continuously analyze system design, hardware and software.</li> <li> Develop, recommend, and install solutions and upgrades to ensure availability, integrity, efficiency, and reliability of all components of the assigned system.</li> <li> Ensure all performed work is captured in the Remedy ticketing system.</li> <li> Manage Telecommunications and NIPR networks for the Wing, GSU\\'s, and tenant units.</li> <li> Continually plan, install, and analyze new hardware, software and processes to ensure networks are reliable and efficient.</li> <li> Serve as a focal point for ensuring functionality and operability of the assigned IT/data systems/functions, voice, and wireless systems to support mission requirements.</li> <li> Optimize, analyze, manage, and direct installation of any new hardware or software introduced into the environment to ensure its compatibility with existing architecture, its reliability, and functionality in relation to the organization\\'s business requirements.</li> <li> Oversee and initiate corrective or preventative measures to rectify immediate problems and prevent future occurrences through the CFP.</li> <li> Troubleshoot and diagnose system failures to isolate source of problems.</li> <li> Provide customer technical assistance/support for all users.</li> <li> Provide management with information necessary to address difficult/complex problems.</li> <li> Review purchase requests, SOW\\'s ensuring documentation is sufficient to justify enhancements to keep systems current.</li> <li> Work with the CFP/customers to resolve integration or configuration related issues.</li> <li> Ensure upgrades to the base IT infrastructure are identified.</li> <li> Assist customers in developing/submitting recommendations for equipment and funds.</li> <li> Assist personnel in planning/developing new or additional infrastructure/architecture capabilities.</li> <li> Coordinate efforts between system customers, support personnel, commercial vendors to identify/resolve system anomalies.</li> <li> Conduct feasibility studies to identify and analyze system failures and analyzes data to determine if trends exist which forecast the need for future replacement or modification of system hardware and software.</li> <li> As budget constraints dictate, evaluates alternative means of satisfying user requirements and provides management with the most technically feasible and cost efficient approaches to meet changing needs.</li> <li> Keep abreast of changes in technology to assist management in preparing for future enhancements.</li> </ul> </span> </span> </div> </div> <div class=\"paragraph\" id=\"PARAGRAPH_950154894_2_626199188\" itemscope=\"\" itemtype=\"https://schema.org/Organization\" style=\"padding-top:0px;\"> <span class=\"dates_wrapper\"> <span class=\"jobdates\" format=\"%m/%Y\" id=\"950154894JSTD2\"> 02/2001</span> <span>  to </span> <span class=\"jobdates\" format=\"%m/%Y\" id=\"950154894EDDT2\"> Current</span> </span> <div class=\"singlecolumn\"> <span class=\"paddedline\"> <span class=\"jobtitle\" id=\"950154894JTIT2\"> Cyber Transport/ Client Systems Workcenter Supervisor</span> </span> <span class=\"paddedline\" itemscope=\"\" itemtype=\"https://schema.org/postalAddress\"> <span class=\"companyname\" id=\"950154894COMP2\" itemprop=\"name\"> Company Name</span> <span>  － </span> <span class=\"joblocation jobcity\" id=\"950154894JCIT2\" itemprop=\"addressLocality\"> City</span> <span> , </span> <span class=\"joblocation jobstate\" id=\"950154894JSTA2\" itemprop=\"addressRegion\"> State</span> </span> <span class=\"paddedline\"> <span class=\"jobline\" id=\"950154894JDES2\" itemprop=\"description\"> <ul> <li> Kevin L.</li> <li> Trostle, DSN 266-4800, COMM.</li> <li> 865) 336-4800\\nManage Cyber Transport/Client Systems work center personnel.</li> <li> Set and adjust work priorities, evaluate, and counsel subordinates.</li> <li> Document training of personnel using Computer based training system (TBA)\\nSustain and operate systems through effective troubleshooting, repair, PMI\\'s, system performance testing/analysis.</li> <li> Systems include network infrastructure equipment, cabling, voice systems, video systems, small computers, and printers\\nMaintain close working relationship with Communications Focal Point--production requirements/Remedy tickets.</li> </ul> </span> </span> </div> </div> <div class=\"paragraph\" id=\"PARAGRAPH_950154894_3_626199189\" itemscope=\"\" itemtype=\"https://schema.org/Organization\" style=\"padding-top:0px;\"> <span class=\"dates_wrapper\"> <span class=\"jobdates\" format=\"%m/%Y\" id=\"950154894JSTD3\"> 07/1996</span> <span>  to </span> <span class=\"jobdates\" format=\"%m/%Y\" id=\"950154894EDDT3\"> 07/2000</span> </span> <div class=\"singlecolumn\"> <span class=\"paddedline\"> <span class=\"jobtitle\" id=\"950154894JTIT3\"> F-16 Ejection System Technician</span> </span> <span class=\"paddedline\" itemscope=\"\" itemtype=\"https://schema.org/postalAddress\"> <span class=\"companyname\" id=\"950154894COMP3\" itemprop=\"name\"> Company Name</span> <span>  － </span> <span class=\"joblocation jobcity\" id=\"950154894JCIT3\" itemprop=\"addressLocality\"> City</span> <span> , </span> <span class=\"joblocation jobstate\" id=\"950154894JSTA3\" itemprop=\"addressRegion\"> State</span> </span> <span class=\"paddedline\"> <span class=\"jobline\" id=\"950154894JDES3\" itemprop=\"description\"> <ul> <li> Ronald Buckman, COMM.</li> <li> 803) 895-1190 \\nTroubleshot, removed, tested, inspected, repaired, modified, and installed explosive and non-explosive components and assemblies on ejection systems.</li> <li> Performed preventative maintenance on over ninety different electronically fired explosive devices ensuring proper wiring and termination.</li> <li> Foreign object damage monitor, briefed wing commander monthly on findings.</li> <li> Ran entire supply system ensuring all parts and supplies were readily available.</li> <li> Hazardous materials monitor.</li> <li> Explosive inspector.</li> <li> Ensured proper grounding points were present in shop to prevent electrostatic discharge to explosive components.</li> <li> Section workgroup manager in charge of maintaining computers and ensured needed software was installed.</li> <li> Shop computer security monitor.</li> <li> Trained and supervised personnel.</li> <li> Quality Assurance Assessor.</li> </ul> </span> </span> </div> </div> </div> <div class=\"section\" id=\"SECTION_EDUC950154895\" style=\"padding-top:0px;\"> <div class=\"heading\"> <div class=\"sectiontitle\" id=\"SECTNAME_EDUC950154895\"> Education and Training</div> </div> <div class=\"paragraph firstparagraph\" id=\"PARAGRAPH_950154895_1_626199190\" itemscope=\"\" itemtype=\"https://schema.org/EducationalOrganization\" style=\"padding-top:0px;\"> <span class=\"dates_wrapper\"> <span class=\"jobdates\" id=\"950154895GRYR1\"> JUN 1996</span> </span> <div class=\"singlecolumn\"> <span class=\"paddedline\" itemprop=\"description\"> <span class=\"degree\" id=\"950154895DGRE1\" itemprop=\"name\"> HS Diploma</span> <span> : </span> <span class=\"programline\" id=\"950154895STUY1\"> General Studies</span> </span> <span class=\"paddedline\"> <span class=\"companyname companyname_educ\" dependency=\"SCHO\" id=\"950154895SCHO1\" itemprop=\"name\"> Brockport High School</span> <span class=\"statesWrapper\">  － </span> <span class=\"joblocation jobcity\" id=\"950154895SCIT1\"> City</span> <span> , </span> <span class=\"joblocation jobstate\" id=\"950154895SSTA1\"> State</span> <span class=\"joblocation jobstate\" id=\"950154895SCNT1\"> </span> </span> <span class=\"paddedline\"> <span class=\"field\" id=\"950154895FRFM1\"> General Studies</span> </span> </div> </div> <div class=\"paragraph\" id=\"PARAGRAPH_950154895_2_626199191\" itemscope=\"\" itemtype=\"https://schema.org/EducationalOrganization\" style=\"padding-top:0px;\"> <span class=\"dates_wrapper\"> <span class=\"jobdates\" id=\"950154895GRYR2\"> MAY 2003</span> </span> <div class=\"singlecolumn\"> <span class=\"paddedline\" itemprop=\"description\"> <span class=\"degree\" id=\"950154895DGRE2\" itemprop=\"name\"> BS Degree</span> <span> : </span> <span class=\"programline\" id=\"950154895STUY2\"> Electrical Engineering</span> </span> <span class=\"paddedline\"> <span class=\"companyname companyname_educ\" dependency=\"SCHO\" id=\"950154895SCHO2\" itemprop=\"name\"> University of TN</span> <span class=\"statesWrapper\">  － </span> <span class=\"joblocation jobcity\" id=\"950154895SCIT2\"> City</span> <span> , </span> <span class=\"joblocation jobstate\" id=\"950154895SSTA2\"> State</span> <span class=\"joblocation jobstate\" id=\"950154895SCNT2\"> </span> </span> <span class=\"paddedline\"> <span class=\"field\" id=\"950154895FRFM2\"> Electrical Engineering</span> </span> </div> </div> <div class=\"paragraph\" id=\"PARAGRAPH_950154895_3_626199192\" itemscope=\"\" itemtype=\"https://schema.org/EducationalOrganization\" style=\"padding-top:0px;\"> <span class=\"dates_wrapper\"> <span class=\"jobdates\" id=\"950154895GRYR3\"> November 1996</span> </span> <div class=\"singlecolumn\"> <span class=\"paddedline\" itemprop=\"description\"> <span class=\"degree\" id=\"950154895DGRE3\" itemprop=\"name\"> USAF, Electronic Principles, June 2002 to August 2002; USAF, Telephone Systems Apprentice Course, September 2002 to December 2002; USAF, Aircrew Egress Systems Apprentice Course</span> <span class=\"programline\" id=\"950154895STUY3\"> </span> </span> <span class=\"paddedline\"> <span class=\"field\" id=\"950154895FRFM3\"> Numerous certificates for web-based training on LAN fundamentals, routers, topologies, cisco networking, etc.</span> </span> </div> </div> </div> <div class=\"section\" id=\"SECTION_INTR950154896\" style=\"padding-top:0px;\"> <div class=\"heading\"> <div class=\"sectiontitle\" id=\"SECTNAME_INTR950154896\"> Interests</div> </div> <div class=\"paragraph firstparagraph\" id=\"PARAGRAPH_950154896_1_626199193\" style=\"padding-top:0px;\"> <div class=\"field singlecolumn\" id=\"950154896FRFM1\"> While stationed in South Carolina performed three years of volunteer electrical work for Habitat for Humanity.  While doing this work I learned the fundamentals of wiring a house for electric, cable, and telephone.</div> </div> </div> <div class=\"section\" id=\"SECTION_SKLL950154897\" style=\"padding-top:0px;\"> <div class=\"heading\"> <div class=\"sectiontitle\" id=\"SECTNAME_SKLL950154897\"> Skills</div> </div> <div class=\"paragraph firstparagraph\" id=\"PARAGRAPH_950154897_1_626199195\" style=\"padding-top:0px;\"> <div class=\"field singlecolumn\" id=\"950154897FRFM1\"> budget, cabling, cisco, hardware, Client, documentation, Electrician, feasibility studies, funds, Information Technology, inspector, LAN, materials, access, network, networking, networks, personnel, Telephone Systems, printers, processes, Project Management, Quality Assurance, routers, system design, technical assistance, Technician, Telecommunications, Troubleshoot, troubleshooting, upgrades, video, wiring</div> </div> </div> <div class=\"section\" id=\"SECTION_ADDI950154905\" style=\"padding-top:0px;\"> <div class=\"heading\"> <div class=\"sectiontitle\" id=\"SECTNAME_ADDI950154905\"> Additional Information</div> </div> <div class=\"paragraph firstparagraph\" id=\"PARAGRAPH_950154905_1_626199196\" style=\"padding-top:0px;\"> <div class=\"field singlecolumn\" id=\"950154905FRFM1\"> <ul> <li> AWARDS:\\nSuperior Performer, 2nd Quarter 2003;  USAF Achievement Medal, June 2000; Humanitarian Service Medal, January 1998; 20 CRS Maintenance Professional of the Year, 1998; Airman of the Quarter, May 1997; Airman of the Month, March 1997; Airman of the Month, February 1997\\nOTHER INFORMATION:\\nWhile stationed in South Carolina performed three years of volunteer electrical work for Habitat for Humanity.  While doing this work I learned the fundamentals of wiring a house for electric, cable, and telephone.</li> </ul> </div> </div> </div> </div>', 'Category': 'INFORMATION-TECHNOLOGY'})]"
            ]
          },
          "metadata": {},
          "output_type": "display_data"
        }
      ],
      "source": [
        "display(df_document[:2])"
      ]
    },
    {
      "cell_type": "markdown",
      "id": "82937c96",
      "metadata": {
        "id": "82937c96",
        "papermill": {
          "duration": 0.026601,
          "end_time": "2023-11-07T23:40:12.833936",
          "exception": false,
          "start_time": "2023-11-07T23:40:12.807335",
          "status": "completed"
        },
        "tags": []
      },
      "source": [
        "# Creating the embeddings"
      ]
    },
    {
      "cell_type": "markdown",
      "id": "1fb2bc4b",
      "metadata": {},
      "source": [
        "We split the data into manageable chunks to store as vectors using **CharacterTextSplitter**. There isn't an exact way to do this, more chunks means more detailed context, but will increase the size of our vectorstore.\n",
        "\n",
        "There are no magic numbers to inform. It is important to consider that the larger the chunk size, the more context the model will have, but the size of our vector store will also increase."
      ]
    },
    {
      "cell_type": "code",
      "execution_count": 33,
      "id": "ff0787e7",
      "metadata": {},
      "outputs": [],
      "source": [
        "from langchain.text_splitter import CharacterTextSplitter"
      ]
    },
    {
      "cell_type": "code",
      "execution_count": 34,
      "id": "316f5b14",
      "metadata": {
        "execution": {
          "iopub.execute_input": "2023-11-07T23:40:13.004502Z",
          "iopub.status.busy": "2023-11-07T23:40:13.003754Z",
          "iopub.status.idle": "2023-11-07T23:40:13.04734Z",
          "shell.execute_reply": "2023-11-07T23:40:13.046217Z"
        },
        "id": "316f5b14",
        "papermill": {
          "duration": 0.07506,
          "end_time": "2023-11-07T23:40:13.050342",
          "exception": false,
          "start_time": "2023-11-07T23:40:12.975282",
          "status": "completed"
        },
        "tags": []
      },
      "outputs": [],
      "source": [
        "from langchain.text_splitter import RecursiveCharacterTextSplitter\n",
        "text_splitter = RecursiveCharacterTextSplitter(\n",
        "    chunk_size=3000,  # Large enough to keep resume context\n",
        "    chunk_overlap=400  # Allows minor overlap for coherence\n",
        ")\n",
        "\n",
        "texts = text_splitter.split_documents(df_document)"
      ]
    },
    {
      "cell_type": "code",
      "execution_count": 35,
      "id": "055f18e7",
      "metadata": {},
      "outputs": [
        {
          "data": {
            "text/plain": [
              "[Document(page_content='INFORMATION TECHNOLOGY         Summary     Dedicated  Information Assurance Professional \\xa0well-versed in analyzing and mitigating risk and finding cost-effective solutions. Excels at boosting performance and productivity by establishing realistic goals and enforcing deadlines.\\xa0 Versatile IT professional with 37 years of Enterprise design and engineering methodology.       Skills          Enterprise platforms  Knowledge of Product Lifecycle Management (PLM)  Project tracking  Hardware and software upgrade planning  Product requirements documentation  Self-directed  MS Visio  Decisive  Collaborative  Domain Active Directory Layout  Data storage engineering      Information Assurance  Risk Management Framework (RMF)  Active Directory design and deployment  Workstation build and deployment  Systems Accreditation Packages  Red Hat Enterprise Linux installation and hardening  Network Design & Troubleshooting  \\xa0High Performance Computing            Experience      Company Name    City  ,   State    Information Technology   02/2011   to   Current        I was hired to manage accreditation\\nefforts for a major department modernization project involving 3\\naccreditation packages each leading to successful Authorization To\\nOperate decisions.  Responsibilities then increased to include all\\ndepartmental accreditation efforts leading to another 3 successful\\nATOs.  Now, working on 4 new accreditation including\\nre-authorization for an existing project.  Succeeded in writing and\\nimplementing vulnerability management for existing accredited\\nsystems.\\n\\n\\n\\n\\n\\nSuccess\\nof the accreditation hinged on coordination with ONI Enterprise in\\ncritical design decisions and to help the program integrate smoothly\\ninto the Enterprise thru many meetings, analyzing the Enterprise\\nbusiness model to understand the best fit for the program.', metadata={'ID': 36856210, 'Resume_html': '<div class=\"fontsize fontface vmargins hmargins linespacing pagesize\" id=\"document\"> <div class=\"section firstsection\" id=\"SECTION_NAME1010430031\" style=\"padding-top:0px;\"> <div class=\"paragraph PARAGRAPH_NAME firstparagraph\" id=\"PARAGRAPH_1010430031_1_670657207\" style=\"padding-top:0px;\"> <div class=\"name thinbottomborder\" itemprop=\"name\"> <span class=\"field\" id=\"1010430031FNAM1\"> </span> <span> </span> <span class=\"field\" id=\"1010430031LNAM1\"> INFORMATION TECHNOLOGY</span> </div> <div class=\"botBorder\"> </div> </div> </div> <div class=\"section\" id=\"SECTION_SUMM1010430033\" style=\"padding-top:0px;\"> <div class=\"heading\"> <div class=\"sectiontitle\" id=\"SECTNAME_SUMM1010430033\"> Summary</div> </div> <div class=\"paragraph firstparagraph\" id=\"PARAGRAPH_1010430033_1_670673671\" style=\"padding-top:0px;\"> <div class=\"field singlecolumn\" id=\"1010430033FRFM1\"> <span class=\"\"> Dedicated <font color=\"#000\" style=\"color: rgb(0, 0, 0);\"> Information Assurance Professional</font> \\xa0well-versed in analyzing and mitigating risk and finding cost-effective solutions. Excels at boosting performance and productivity by establishing realistic goals and enforcing deadlines.\\xa0 Versatile IT professional with 37 years of Enterprise design and engineering methodology.</span> </div> </div> </div> <div class=\"section\" id=\"SECTION_HILT1010430034\" style=\"padding-top:0px;\"> <div class=\"heading\"> <div class=\"sectiontitle\" id=\"SECTNAME_HILT1010430034\"> Skills</div> </div> <div class=\"paragraph firstparagraph\" id=\"PARAGRAPH_1010430034_1_670657723\" style=\"padding-top:0px;\"> <div class=\"singlecolumn maincolumn\"> <table class=\"twocol\"> <tbody> <tr> <td class=\"field twocol_1\" id=\"1010430034SKC11\"> <ul> <li class=\"\"> Enterprise platforms</li> <li class=\"\"> Knowledge of Product Lifecycle Management (PLM)</li> <li class=\"\"> Project tracking</li> <li class=\"\"> Hardware and software upgrade planning</li> <li class=\"\"> Product requirements documentation</li> <li class=\"\"> Self-directed</li> <li class=\"\"> MS Visio</li> <li class=\"\"> Decisive</li> <li class=\"\"> Collaborative</li> <li class=\"\"> Domain Active Directory Layout</li> <li class=\"\"> Data storage engineering</li> </ul> </td> <td class=\"field twocol_2\" id=\"1010430034SKC21\"> <ul> <li> Information Assurance</li> <li> Risk Management Framework (RMF)</li> <li> Active Directory design and deployment</li> <li> Workstation build and deployment</li> <li> Systems Accreditation Packages</li> <li> Red Hat Enterprise Linux installation and hardening</li> <li> Network Design &amp; Troubleshooting</li> <li> \\xa0High Performance Computing</li> </ul> </td> </tr> </tbody> </table> </div> </div> </div> <div class=\"section\" id=\"SECTION_EXPR1010430035\" style=\"padding-top:0px;\"> <div class=\"heading\"> <div class=\"sectiontitle\" id=\"SECTNAME_EXPR1010430035\"> Experience</div> </div> <div class=\"paragraph firstparagraph\" id=\"PARAGRAPH_1010430035_1_670657211\" itemscope=\"\" itemtype=\"https://schema.org/Organization\" style=\"padding-top:0px;\"> <div class=\"singlecolumn\"> <span class=\"paddedline txtCenter\"> <span class=\"companyname\" id=\"1010430035COMP1\" itemprop=\"name\"> Company Name</span> </span> <span class=\"paddedline txtCenter\" itemscope=\"\" itemtype=\"https://schema.org/postalAddress\"> <span class=\"joblocation jobcity\" id=\"1010430035JCIT1\" itemprop=\"addressLocality\"> City</span> <span> , </span> <span class=\"joblocation jobstate\" id=\"1010430035JSTA1\" itemprop=\"addressRegion\"> State</span> </span> <span class=\"paddedline\"> <span class=\"jobtitle\" id=\"1010430035JTIT1\"> Information Technology</span> <span class=\"datesWrapper\"> <span class=\"jobdates\" format=\"%m/%Y\" id=\"1010430035JSTD1\"> 02/2011</span> <span>  to </span> <span class=\"jobdates\" format=\"%m/%Y\" id=\"1010430035EDDT1\"> Current</span> </span> </span> <span class=\"paddedline\"> <span class=\"jobline txtLeft\" id=\"1010430035JDES1\" itemprop=\"description\"> <div> </div> <div> I was hired to manage accreditation\\nefforts for a major department modernization project involving 3\\naccreditation packages each leading to successful Authorization To\\nOperate decisions.  Responsibilities then increased to include all\\ndepartmental accreditation efforts leading to another 3 successful\\nATOs.  Now, working on 4 new accreditation including\\nre-authorization for an existing project.  Succeeded in writing and\\nimplementing vulnerability management for existing accredited\\nsystems.\\n\\n\\n\\n\\n\\nSuccess\\nof the accreditation hinged on coordination with ONI Enterprise in\\ncritical design decisions and to help the program integrate smoothly\\ninto the Enterprise thru many meetings, analyzing the Enterprise\\nbusiness model to understand the best fit for the program.\\n\\n\\n\\n\\n\\nThe\\ndifferent projects required careful management of specific STIG\\ncompliance and hardening for the different configurations and\\nservices required for the specific domain to be integrated.\\xa0\\xa0<span class=\"\"> Analyzed complex computer systems to assess vulnerability and risk.\\xa0\\xa0</span> <span class=\"\"> Supervised <font color=\"#000\" style=\"color: rgb(0, 0, 0);\"> 5</font>  external computer consultants and vendors.\\xa0\\xa0</span> <span class=\"\"> Managed application patches, data backup, security changes and network configuration. </span> </div> </span> </span> </div> </div> <div class=\"paragraph\" id=\"PARAGRAPH_1010430035_2_670657212\" itemscope=\"\" itemtype=\"https://schema.org/Organization\" style=\"padding-top:0px;\"> <div class=\"singlecolumn\"> <span class=\"paddedline txtCenter\"> <span class=\"companyname\" id=\"1010430035COMP2\" itemprop=\"name\"> Company Name</span> </span> <span class=\"paddedline txtCenter\" itemscope=\"\" itemtype=\"https://schema.org/postalAddress\"> <span class=\"joblocation jobcity\" id=\"1010430035JCIT2\" itemprop=\"addressLocality\"> City</span> <span> , </span> <span class=\"joblocation jobstate\" id=\"1010430035JSTA2\" itemprop=\"addressRegion\"> State</span> </span> <span class=\"paddedline\"> <span class=\"jobtitle\" id=\"1010430035JTIT2\"> Systems Engineer</span> <span class=\"datesWrapper\"> <span class=\"jobdates\" format=\"%m/%Y\" id=\"1010430035JSTD2\"> 02/2006</span> <span>  to </span> <span class=\"jobdates\" format=\"%m/%Y\" id=\"1010430035EDDT2\"> 02/2011</span> </span> </span> <span class=\"paddedline\"> <span class=\"jobline txtLeft\" id=\"1010430035JDES2\" itemprop=\"description\"> <div> </div> <div> I was Hired\\nto initiate processing strategies in fulfilling department analyst requirements.  Requirements were fulfilled thru i<span class=\"\"> dentifying product problems and strengths and collected data on customer experience\\xa0</span> and review of Enterprise compliance to transition to new\\ntechnology for supporting new processing needs thru proper processing\\npower.\\xa0 The next challenge\\xa0 came as storage requirements for better performance and more\\ncontrolled uses.  After careful study of local infrastructure design, a local storage with off the shelf solutions was\\nadopted to grow local storage to over 200TB.  In using this solution,\\nthe department saved just over a million dollars in purchasing and\\nmaintenance costs compared to the alternative. Next came requirements to improve processing of future big data formats fulfilled in a Red Hat Linux high compute cluster I designed, purchased and\\naccredited for operation in the Enterprise.\\xa0 Improvement on big data analytical processing reduced time from\\n30 hours to 30 minutes as well as allow for more robust data thru\\nhigher selections of sensors, frequencies and range than allowed thru\\nthe traditional process.</div> </span> </span> </div> </div> <div class=\"paragraph\" id=\"PARAGRAPH_1010430035_3_670657213\" itemscope=\"\" itemtype=\"https://schema.org/Organization\" style=\"padding-top:0px;\"> <div class=\"singlecolumn\"> <span class=\"paddedline txtCenter\"> <span class=\"companyname\" id=\"1010430035COMP3\" itemprop=\"name\"> Company Name</span> </span> <span class=\"paddedline txtCenter\" itemscope=\"\" itemtype=\"https://schema.org/postalAddress\"> <span class=\"joblocation jobcity\" id=\"1010430035JCIT3\" itemprop=\"addressLocality\"> City</span> <span> , </span> <span class=\"joblocation jobstate\" id=\"1010430035JSTA3\" itemprop=\"addressRegion\"> State</span> </span> <span class=\"paddedline\"> <span class=\"jobtitle\" id=\"1010430035JTIT3\"> Senior Systems Analyst</span> <span class=\"datesWrapper\"> <span class=\"jobdates\" format=\"%m/%Y\" id=\"1010430035JSTD3\"> 02/1999</span> <span>  to </span> <span class=\"jobdates\" format=\"%m/%Y\" id=\"1010430035EDDT3\"> 02/2006</span> </span> </span> <span class=\"paddedline\"> <span class=\"jobline txtLeft\" id=\"1010430035JDES3\" itemprop=\"description\"> <div> </div> <div> I was hired to improve corporate and\\nclient communications and processing requirements which resulted in\\nthe design, build and deployment of 3 Enterprise network solutions.  One\\nsolution resulted in expanding capabilities to supporting Washington\\nNavy Yard, Norfolk Virginia and Hawaii support facilities. \\n\\n\\n\\n\\n\\n\\nFulfilled\\nrequirements for detecting crucial network software/hardware\\nweaknesses and developing preventive strategies and solutions for\\navoiding interruptions and increasing system security thru\\ndocumenting system layouts, wiring diagrams and addressing schema to\\nunderstand layouts and make informed solutions to upper management.\\n\\n\\n\\n<br/> </div> </span> </span> </div> </div> </div> <div class=\"section\" id=\"SECTION_EDUC1010430036\" style=\"padding-top:0px;\"> <div class=\"heading\"> <div class=\"sectiontitle\" id=\"SECTNAME_EDUC1010430036\"> Education and Training</div> </div> <div class=\"paragraph firstparagraph\" id=\"PARAGRAPH_1010430036_1_670657216\" itemscope=\"\" itemtype=\"https://schema.org/EducationalOrganization\" style=\"padding-top:0px;\"> <div class=\"singlecolumn\"> <span class=\"paddedline\" itemprop=\"description\"> <span class=\"degree\" dependency=\"DGRE\" id=\"1010430036DGRE1\" itemprop=\"name\"> Associate of Science</span> <span> :</span> <span class=\"programline\" dependency=\"STUY\" id=\"1010430036STUY1\"> Electronic Engineering</span> <span class=\"datesWrapper\"> <span class=\"jobdates\" id=\"1010430036GRYR1\"> 1980</span> </span> </span> <span class=\"paddedline\"> <span class=\"companyname companyname_educ\" id=\"1010430036SCHO1\" itemprop=\"name\"> Florence Darlington Technical School</span> <span> , </span> <span class=\"joblocation jobcity\" id=\"1010430036SCIT1\"> City</span> <span> , </span> <span class=\"joblocation jobstate\" id=\"1010430036SSTA1\"> State</span> <span class=\"joblocation jobstate\" id=\"1010430036SCNT1\"> </span> </span> <span class=\"paddedline\"> <span class=\"field\" id=\"1010430036FRFM1\"> <div> Electronic Engineering.\\xa0\\xa0</div> <div> <font color=\"#000\" style=\"\"> Dean\\'s\\xa0list for high GPA.\\xa0 </font> </div> <div> <font color=\"#000\" style=\"\"> Class President for second year</font> </div> </span> </span> </div> </div> </div> <div class=\"section\" id=\"SECTION_SKLL1010430048\" style=\"padding-top:0px;\"> <div class=\"heading\"> <div class=\"sectiontitle\" id=\"SECTNAME_SKLL1010430048\"> Skills</div> </div> <div class=\"paragraph firstparagraph\" id=\"PARAGRAPH_1010430048_1_670657222\" style=\"padding-top:0px;\"> <div class=\"field singlecolumn\" id=\"1010430048FRFM1\"> <div> </div> <ul> <li> Active Directory</li> <li> Hardware Engineering</li> <li> Information Technology</li> <li> Red Hat Enterprise Linux Servers</li> <li> MS Windows Servers</li> <li> MS Windows Desktop</li> <li> Network Design &amp; Troubleshooting</li> <li> Architectural Diagrams</li> <li> Accreditation Boundarys</li> <li> Risk Management</li> <li> Enterprise Strategies</li> <li> Vendor Relations </li> <li> Desktop Publishing Software: Photoshop, Illustrator, HTML</li> <li> Team Work</li> <li> Collaboration</li> </ul> </div> </div> </div> </div>', 'Category': 'INFORMATION-TECHNOLOGY'}),\n",
              " Document(page_content='Success\\nof the accreditation hinged on coordination with ONI Enterprise in\\ncritical design decisions and to help the program integrate smoothly\\ninto the Enterprise thru many meetings, analyzing the Enterprise\\nbusiness model to understand the best fit for the program.\\n\\n\\n\\n\\n\\nThe\\ndifferent projects required careful management of specific STIG\\ncompliance and hardening for the different configurations and\\nservices required for the specific domain to be integrated.\\xa0\\xa0 Analyzed complex computer systems to assess vulnerability and risk.\\xa0\\xa0  Supervised  5  external computer consultants and vendors.\\xa0\\xa0  Managed application patches, data backup, security changes and network configuration.           Company Name    City  ,   State    Systems Engineer   02/2006   to   02/2011        I was Hired\\nto initiate processing strategies in fulfilling department analyst requirements.  Requirements were fulfilled thru i dentifying product problems and strengths and collected data on customer experience\\xa0 and review of Enterprise compliance to transition to new\\ntechnology for supporting new processing needs thru proper processing\\npower.\\xa0 The next challenge\\xa0 came as storage requirements for better performance and more\\ncontrolled uses.  After careful study of local infrastructure design, a local storage with off the shelf solutions was\\nadopted to grow local storage to over 200TB.  In using this solution,\\nthe department saved just over a million dollars in purchasing and\\nmaintenance costs compared to the alternative. Next came requirements to improve processing of future big data formats fulfilled in a Red Hat Linux high compute cluster I designed, purchased and\\naccredited for operation in the Enterprise.\\xa0 Improvement on big data analytical processing reduced time from\\n30 hours to 30 minutes as well as allow for more robust data thru\\nhigher selections of sensors, frequencies and range than allowed thru\\nthe traditional process.         Company Name    City  ,   State    Senior Systems Analyst   02/1999   to   02/2006        I was hired to improve corporate and\\nclient communications and processing requirements which resulted in\\nthe design, build and deployment of 3 Enterprise network solutions.  One\\nsolution resulted in expanding capabilities to supporting Washington\\nNavy Yard, Norfolk Virginia and Hawaii support facilities. \\n\\n\\n\\n\\n\\n\\nFulfilled\\nrequirements for detecting crucial network software/hardware\\nweaknesses and developing preventive strategies and solutions for\\navoiding interruptions and increasing system security thru\\ndocumenting system layouts, wiring diagrams and addressing schema to\\nunderstand layouts and make informed solutions to upper management.', metadata={'ID': 36856210, 'Resume_html': '<div class=\"fontsize fontface vmargins hmargins linespacing pagesize\" id=\"document\"> <div class=\"section firstsection\" id=\"SECTION_NAME1010430031\" style=\"padding-top:0px;\"> <div class=\"paragraph PARAGRAPH_NAME firstparagraph\" id=\"PARAGRAPH_1010430031_1_670657207\" style=\"padding-top:0px;\"> <div class=\"name thinbottomborder\" itemprop=\"name\"> <span class=\"field\" id=\"1010430031FNAM1\"> </span> <span> </span> <span class=\"field\" id=\"1010430031LNAM1\"> INFORMATION TECHNOLOGY</span> </div> <div class=\"botBorder\"> </div> </div> </div> <div class=\"section\" id=\"SECTION_SUMM1010430033\" style=\"padding-top:0px;\"> <div class=\"heading\"> <div class=\"sectiontitle\" id=\"SECTNAME_SUMM1010430033\"> Summary</div> </div> <div class=\"paragraph firstparagraph\" id=\"PARAGRAPH_1010430033_1_670673671\" style=\"padding-top:0px;\"> <div class=\"field singlecolumn\" id=\"1010430033FRFM1\"> <span class=\"\"> Dedicated <font color=\"#000\" style=\"color: rgb(0, 0, 0);\"> Information Assurance Professional</font> \\xa0well-versed in analyzing and mitigating risk and finding cost-effective solutions. Excels at boosting performance and productivity by establishing realistic goals and enforcing deadlines.\\xa0 Versatile IT professional with 37 years of Enterprise design and engineering methodology.</span> </div> </div> </div> <div class=\"section\" id=\"SECTION_HILT1010430034\" style=\"padding-top:0px;\"> <div class=\"heading\"> <div class=\"sectiontitle\" id=\"SECTNAME_HILT1010430034\"> Skills</div> </div> <div class=\"paragraph firstparagraph\" id=\"PARAGRAPH_1010430034_1_670657723\" style=\"padding-top:0px;\"> <div class=\"singlecolumn maincolumn\"> <table class=\"twocol\"> <tbody> <tr> <td class=\"field twocol_1\" id=\"1010430034SKC11\"> <ul> <li class=\"\"> Enterprise platforms</li> <li class=\"\"> Knowledge of Product Lifecycle Management (PLM)</li> <li class=\"\"> Project tracking</li> <li class=\"\"> Hardware and software upgrade planning</li> <li class=\"\"> Product requirements documentation</li> <li class=\"\"> Self-directed</li> <li class=\"\"> MS Visio</li> <li class=\"\"> Decisive</li> <li class=\"\"> Collaborative</li> <li class=\"\"> Domain Active Directory Layout</li> <li class=\"\"> Data storage engineering</li> </ul> </td> <td class=\"field twocol_2\" id=\"1010430034SKC21\"> <ul> <li> Information Assurance</li> <li> Risk Management Framework (RMF)</li> <li> Active Directory design and deployment</li> <li> Workstation build and deployment</li> <li> Systems Accreditation Packages</li> <li> Red Hat Enterprise Linux installation and hardening</li> <li> Network Design &amp; Troubleshooting</li> <li> \\xa0High Performance Computing</li> </ul> </td> </tr> </tbody> </table> </div> </div> </div> <div class=\"section\" id=\"SECTION_EXPR1010430035\" style=\"padding-top:0px;\"> <div class=\"heading\"> <div class=\"sectiontitle\" id=\"SECTNAME_EXPR1010430035\"> Experience</div> </div> <div class=\"paragraph firstparagraph\" id=\"PARAGRAPH_1010430035_1_670657211\" itemscope=\"\" itemtype=\"https://schema.org/Organization\" style=\"padding-top:0px;\"> <div class=\"singlecolumn\"> <span class=\"paddedline txtCenter\"> <span class=\"companyname\" id=\"1010430035COMP1\" itemprop=\"name\"> Company Name</span> </span> <span class=\"paddedline txtCenter\" itemscope=\"\" itemtype=\"https://schema.org/postalAddress\"> <span class=\"joblocation jobcity\" id=\"1010430035JCIT1\" itemprop=\"addressLocality\"> City</span> <span> , </span> <span class=\"joblocation jobstate\" id=\"1010430035JSTA1\" itemprop=\"addressRegion\"> State</span> </span> <span class=\"paddedline\"> <span class=\"jobtitle\" id=\"1010430035JTIT1\"> Information Technology</span> <span class=\"datesWrapper\"> <span class=\"jobdates\" format=\"%m/%Y\" id=\"1010430035JSTD1\"> 02/2011</span> <span>  to </span> <span class=\"jobdates\" format=\"%m/%Y\" id=\"1010430035EDDT1\"> Current</span> </span> </span> <span class=\"paddedline\"> <span class=\"jobline txtLeft\" id=\"1010430035JDES1\" itemprop=\"description\"> <div> </div> <div> I was hired to manage accreditation\\nefforts for a major department modernization project involving 3\\naccreditation packages each leading to successful Authorization To\\nOperate decisions.  Responsibilities then increased to include all\\ndepartmental accreditation efforts leading to another 3 successful\\nATOs.  Now, working on 4 new accreditation including\\nre-authorization for an existing project.  Succeeded in writing and\\nimplementing vulnerability management for existing accredited\\nsystems.\\n\\n\\n\\n\\n\\nSuccess\\nof the accreditation hinged on coordination with ONI Enterprise in\\ncritical design decisions and to help the program integrate smoothly\\ninto the Enterprise thru many meetings, analyzing the Enterprise\\nbusiness model to understand the best fit for the program.\\n\\n\\n\\n\\n\\nThe\\ndifferent projects required careful management of specific STIG\\ncompliance and hardening for the different configurations and\\nservices required for the specific domain to be integrated.\\xa0\\xa0<span class=\"\"> Analyzed complex computer systems to assess vulnerability and risk.\\xa0\\xa0</span> <span class=\"\"> Supervised <font color=\"#000\" style=\"color: rgb(0, 0, 0);\"> 5</font>  external computer consultants and vendors.\\xa0\\xa0</span> <span class=\"\"> Managed application patches, data backup, security changes and network configuration. </span> </div> </span> </span> </div> </div> <div class=\"paragraph\" id=\"PARAGRAPH_1010430035_2_670657212\" itemscope=\"\" itemtype=\"https://schema.org/Organization\" style=\"padding-top:0px;\"> <div class=\"singlecolumn\"> <span class=\"paddedline txtCenter\"> <span class=\"companyname\" id=\"1010430035COMP2\" itemprop=\"name\"> Company Name</span> </span> <span class=\"paddedline txtCenter\" itemscope=\"\" itemtype=\"https://schema.org/postalAddress\"> <span class=\"joblocation jobcity\" id=\"1010430035JCIT2\" itemprop=\"addressLocality\"> City</span> <span> , </span> <span class=\"joblocation jobstate\" id=\"1010430035JSTA2\" itemprop=\"addressRegion\"> State</span> </span> <span class=\"paddedline\"> <span class=\"jobtitle\" id=\"1010430035JTIT2\"> Systems Engineer</span> <span class=\"datesWrapper\"> <span class=\"jobdates\" format=\"%m/%Y\" id=\"1010430035JSTD2\"> 02/2006</span> <span>  to </span> <span class=\"jobdates\" format=\"%m/%Y\" id=\"1010430035EDDT2\"> 02/2011</span> </span> </span> <span class=\"paddedline\"> <span class=\"jobline txtLeft\" id=\"1010430035JDES2\" itemprop=\"description\"> <div> </div> <div> I was Hired\\nto initiate processing strategies in fulfilling department analyst requirements.  Requirements were fulfilled thru i<span class=\"\"> dentifying product problems and strengths and collected data on customer experience\\xa0</span> and review of Enterprise compliance to transition to new\\ntechnology for supporting new processing needs thru proper processing\\npower.\\xa0 The next challenge\\xa0 came as storage requirements for better performance and more\\ncontrolled uses.  After careful study of local infrastructure design, a local storage with off the shelf solutions was\\nadopted to grow local storage to over 200TB.  In using this solution,\\nthe department saved just over a million dollars in purchasing and\\nmaintenance costs compared to the alternative. Next came requirements to improve processing of future big data formats fulfilled in a Red Hat Linux high compute cluster I designed, purchased and\\naccredited for operation in the Enterprise.\\xa0 Improvement on big data analytical processing reduced time from\\n30 hours to 30 minutes as well as allow for more robust data thru\\nhigher selections of sensors, frequencies and range than allowed thru\\nthe traditional process.</div> </span> </span> </div> </div> <div class=\"paragraph\" id=\"PARAGRAPH_1010430035_3_670657213\" itemscope=\"\" itemtype=\"https://schema.org/Organization\" style=\"padding-top:0px;\"> <div class=\"singlecolumn\"> <span class=\"paddedline txtCenter\"> <span class=\"companyname\" id=\"1010430035COMP3\" itemprop=\"name\"> Company Name</span> </span> <span class=\"paddedline txtCenter\" itemscope=\"\" itemtype=\"https://schema.org/postalAddress\"> <span class=\"joblocation jobcity\" id=\"1010430035JCIT3\" itemprop=\"addressLocality\"> City</span> <span> , </span> <span class=\"joblocation jobstate\" id=\"1010430035JSTA3\" itemprop=\"addressRegion\"> State</span> </span> <span class=\"paddedline\"> <span class=\"jobtitle\" id=\"1010430035JTIT3\"> Senior Systems Analyst</span> <span class=\"datesWrapper\"> <span class=\"jobdates\" format=\"%m/%Y\" id=\"1010430035JSTD3\"> 02/1999</span> <span>  to </span> <span class=\"jobdates\" format=\"%m/%Y\" id=\"1010430035EDDT3\"> 02/2006</span> </span> </span> <span class=\"paddedline\"> <span class=\"jobline txtLeft\" id=\"1010430035JDES3\" itemprop=\"description\"> <div> </div> <div> I was hired to improve corporate and\\nclient communications and processing requirements which resulted in\\nthe design, build and deployment of 3 Enterprise network solutions.  One\\nsolution resulted in expanding capabilities to supporting Washington\\nNavy Yard, Norfolk Virginia and Hawaii support facilities. \\n\\n\\n\\n\\n\\n\\nFulfilled\\nrequirements for detecting crucial network software/hardware\\nweaknesses and developing preventive strategies and solutions for\\navoiding interruptions and increasing system security thru\\ndocumenting system layouts, wiring diagrams and addressing schema to\\nunderstand layouts and make informed solutions to upper management.\\n\\n\\n\\n<br/> </div> </span> </span> </div> </div> </div> <div class=\"section\" id=\"SECTION_EDUC1010430036\" style=\"padding-top:0px;\"> <div class=\"heading\"> <div class=\"sectiontitle\" id=\"SECTNAME_EDUC1010430036\"> Education and Training</div> </div> <div class=\"paragraph firstparagraph\" id=\"PARAGRAPH_1010430036_1_670657216\" itemscope=\"\" itemtype=\"https://schema.org/EducationalOrganization\" style=\"padding-top:0px;\"> <div class=\"singlecolumn\"> <span class=\"paddedline\" itemprop=\"description\"> <span class=\"degree\" dependency=\"DGRE\" id=\"1010430036DGRE1\" itemprop=\"name\"> Associate of Science</span> <span> :</span> <span class=\"programline\" dependency=\"STUY\" id=\"1010430036STUY1\"> Electronic Engineering</span> <span class=\"datesWrapper\"> <span class=\"jobdates\" id=\"1010430036GRYR1\"> 1980</span> </span> </span> <span class=\"paddedline\"> <span class=\"companyname companyname_educ\" id=\"1010430036SCHO1\" itemprop=\"name\"> Florence Darlington Technical School</span> <span> , </span> <span class=\"joblocation jobcity\" id=\"1010430036SCIT1\"> City</span> <span> , </span> <span class=\"joblocation jobstate\" id=\"1010430036SSTA1\"> State</span> <span class=\"joblocation jobstate\" id=\"1010430036SCNT1\"> </span> </span> <span class=\"paddedline\"> <span class=\"field\" id=\"1010430036FRFM1\"> <div> Electronic Engineering.\\xa0\\xa0</div> <div> <font color=\"#000\" style=\"\"> Dean\\'s\\xa0list for high GPA.\\xa0 </font> </div> <div> <font color=\"#000\" style=\"\"> Class President for second year</font> </div> </span> </span> </div> </div> </div> <div class=\"section\" id=\"SECTION_SKLL1010430048\" style=\"padding-top:0px;\"> <div class=\"heading\"> <div class=\"sectiontitle\" id=\"SECTNAME_SKLL1010430048\"> Skills</div> </div> <div class=\"paragraph firstparagraph\" id=\"PARAGRAPH_1010430048_1_670657222\" style=\"padding-top:0px;\"> <div class=\"field singlecolumn\" id=\"1010430048FRFM1\"> <div> </div> <ul> <li> Active Directory</li> <li> Hardware Engineering</li> <li> Information Technology</li> <li> Red Hat Enterprise Linux Servers</li> <li> MS Windows Servers</li> <li> MS Windows Desktop</li> <li> Network Design &amp; Troubleshooting</li> <li> Architectural Diagrams</li> <li> Accreditation Boundarys</li> <li> Risk Management</li> <li> Enterprise Strategies</li> <li> Vendor Relations </li> <li> Desktop Publishing Software: Photoshop, Illustrator, HTML</li> <li> Team Work</li> <li> Collaboration</li> </ul> </div> </div> </div> </div>', 'Category': 'INFORMATION-TECHNOLOGY'})]"
            ]
          },
          "metadata": {},
          "output_type": "display_data"
        }
      ],
      "source": [
        "display(texts[:2])"
      ]
    },
    {
      "cell_type": "markdown",
      "id": "779e3387",
      "metadata": {
        "id": "779e3387",
        "papermill": {
          "duration": 0.03243,
          "end_time": "2023-11-07T23:40:13.245472",
          "exception": false,
          "start_time": "2023-11-07T23:40:13.213042",
          "status": "completed"
        },
        "tags": []
      },
      "source": [
        "We load the library to create the pre trained model from HuggingFace to create the embeddings from sentences.\n"
      ]
    },
    {
      "cell_type": "code",
      "execution_count": 13,
      "id": "7fa973ac",
      "metadata": {
        "colab": {
          "base_uri": "https://localhost:8080/"
        },
        "execution": {
          "iopub.execute_input": "2023-11-07T23:40:13.31152Z",
          "iopub.status.busy": "2023-11-07T23:40:13.310846Z",
          "iopub.status.idle": "2023-11-07T23:40:31.996557Z",
          "shell.execute_reply": "2023-11-07T23:40:31.995022Z"
        },
        "id": "7fa973ac",
        "outputId": "0898af45-3e70-47cb-cd07-859afbe1d043",
        "papermill": {
          "duration": 18.721786,
          "end_time": "2023-11-07T23:40:31.999291",
          "exception": false,
          "start_time": "2023-11-07T23:40:13.277505",
          "status": "completed"
        },
        "scrolled": true,
        "tags": []
      },
      "outputs": [
        {
          "name": "stderr",
          "output_type": "stream",
          "text": [
            "/Users/ebengunadi/anaconda3/envs/grids-resume/lib/python3.9/site-packages/tqdm/auto.py:21: TqdmWarning: IProgress not found. Please update jupyter and ipywidgets. See https://ipywidgets.readthedocs.io/en/stable/user_install.html\n",
            "  from .autonotebook import tqdm as notebook_tqdm\n"
          ]
        }
      ],
      "source": [
        "from langchain.embeddings.sentence_transformer import SentenceTransformerEmbeddings\n",
        "embedding_function = SentenceTransformerEmbeddings(model_name=\"all-MiniLM-L6-v2\")"
      ]
    },
    {
      "cell_type": "markdown",
      "id": "ea58c45e",
      "metadata": {
        "id": "ea58c45e",
        "papermill": {
          "duration": 0.034795,
          "end_time": "2023-11-07T23:40:32.069162",
          "exception": false,
          "start_time": "2023-11-07T23:40:32.034367",
          "status": "completed"
        },
        "tags": []
      },
      "source": [
        "# Creating the Index With Chroma\n",
        "Here we are creating the index of embeddings. Using the document, and the embedding function created above."
      ]
    },
    {
      "cell_type": "code",
      "execution_count": 36,
      "id": "eadc6d53",
      "metadata": {
        "execution": {
          "iopub.execute_input": "2023-11-07T23:40:32.142168Z",
          "iopub.status.busy": "2023-11-07T23:40:32.140958Z",
          "iopub.status.idle": "2023-11-07T23:40:40.614344Z",
          "shell.execute_reply": "2023-11-07T23:40:40.613017Z"
        },
        "id": "eadc6d53",
        "papermill": {
          "duration": 8.512528,
          "end_time": "2023-11-07T23:40:40.616895",
          "exception": false,
          "start_time": "2023-11-07T23:40:32.104367",
          "status": "completed"
        },
        "tags": []
      },
      "outputs": [],
      "source": [
        "directory_cdb = './chromadb'\n",
        "chroma_db = Chroma.from_documents(\n",
        "    texts, # using the entire df_document is too slow\n",
        "    embedding_function, \n",
        "    persist_directory=directory_cdb\n",
        ")"
      ]
    },
    {
      "cell_type": "markdown",
      "id": "708820c5",
      "metadata": {
        "id": "708820c5",
        "papermill": {
          "duration": 0.034723,
          "end_time": "2023-11-07T23:40:40.687547",
          "exception": false,
          "start_time": "2023-11-07T23:40:40.652824",
          "status": "completed"
        },
        "tags": []
      },
      "source": [
        "## LANGCHAIN\n",
        "\n",
        "### Using the new LCEL Architecture from LangChain.\n",
        "LangChain recommends using LCEL (LangChain Expression Language) over Chains. "
      ]
    },
    {
      "cell_type": "code",
      "execution_count": 15,
      "id": "ae871f01",
      "metadata": {
        "execution": {
          "iopub.execute_input": "2023-11-07T23:40:40.762362Z",
          "iopub.status.busy": "2023-11-07T23:40:40.761944Z",
          "iopub.status.idle": "2023-11-07T23:40:42.256159Z",
          "shell.execute_reply": "2023-11-07T23:40:42.254902Z"
        },
        "id": "ae871f01",
        "papermill": {
          "duration": 1.534176,
          "end_time": "2023-11-07T23:40:42.258996",
          "exception": false,
          "start_time": "2023-11-07T23:40:40.72482",
          "status": "completed"
        },
        "tags": []
      },
      "outputs": [],
      "source": [
        "from langchain.llms import HuggingFacePipeline\n",
        "from langchain_core.prompts import ChatPromptTemplate\n",
        "from langchain_core.runnables import RunnablePassthrough\n",
        "from langchain_core.output_parsers import StrOutputParser"
      ]
    },
    {
      "cell_type": "markdown",
      "id": "da545337",
      "metadata": {
        "id": "da545337",
        "papermill": {
          "duration": 0.035218,
          "end_time": "2023-11-07T23:40:42.330255",
          "exception": false,
          "start_time": "2023-11-07T23:40:42.295037",
          "status": "completed"
        },
        "tags": []
      },
      "source": [
        "Now we create the retriever object, the responsible to return the data contained in the ChromaDB Database."
      ]
    },
    {
      "cell_type": "code",
      "execution_count": 37,
      "id": "a8478f13",
      "metadata": {
        "execution": {
          "iopub.execute_input": "2023-11-07T23:40:42.40325Z",
          "iopub.status.busy": "2023-11-07T23:40:42.402545Z",
          "iopub.status.idle": "2023-11-07T23:40:42.408031Z",
          "shell.execute_reply": "2023-11-07T23:40:42.406852Z"
        },
        "id": "a8478f13",
        "papermill": {
          "duration": 0.04437,
          "end_time": "2023-11-07T23:40:42.410217",
          "exception": false,
          "start_time": "2023-11-07T23:40:42.365847",
          "status": "completed"
        },
        "tags": []
      },
      "outputs": [],
      "source": [
        "retriever = chroma_db.as_retriever()"
      ]
    },
    {
      "cell_type": "code",
      "execution_count": 17,
      "id": "e2267b3d",
      "metadata": {},
      "outputs": [
        {
          "name": "stderr",
          "output_type": "stream",
          "text": [
            "huggingface/tokenizers: The current process just got forked, after parallelism has already been used. Disabling parallelism to avoid deadlocks...\n",
            "To disable this warning, you can either:\n",
            "\t- Avoid using `tokenizers` before the fork if possible\n",
            "\t- Explicitly set the environment variable TOKENIZERS_PARALLELISM=(true | false)\n"
          ]
        },
        {
          "name": "stdout",
          "output_type": "stream",
          "text": [
            "Collecting huggingface_hub==0.23.0\n",
            "  Using cached huggingface_hub-0.23.0-py3-none-any.whl.metadata (12 kB)\n",
            "Requirement already satisfied: filelock in /Users/ebengunadi/anaconda3/envs/grids-resume/lib/python3.9/site-packages (from huggingface_hub==0.23.0) (3.17.0)\n",
            "Requirement already satisfied: fsspec>=2023.5.0 in /Users/ebengunadi/anaconda3/envs/grids-resume/lib/python3.9/site-packages (from huggingface_hub==0.23.0) (2024.10.0)\n",
            "Requirement already satisfied: packaging>=20.9 in /Users/ebengunadi/anaconda3/envs/grids-resume/lib/python3.9/site-packages (from huggingface_hub==0.23.0) (23.2)\n",
            "Requirement already satisfied: pyyaml>=5.1 in /Users/ebengunadi/anaconda3/envs/grids-resume/lib/python3.9/site-packages (from huggingface_hub==0.23.0) (6.0.2)\n",
            "Requirement already satisfied: requests in /Users/ebengunadi/anaconda3/envs/grids-resume/lib/python3.9/site-packages (from huggingface_hub==0.23.0) (2.32.3)\n",
            "Requirement already satisfied: tqdm>=4.42.1 in /Users/ebengunadi/anaconda3/envs/grids-resume/lib/python3.9/site-packages (from huggingface_hub==0.23.0) (4.67.0)\n",
            "Requirement already satisfied: typing-extensions>=3.7.4.3 in /Users/ebengunadi/anaconda3/envs/grids-resume/lib/python3.9/site-packages (from huggingface_hub==0.23.0) (4.12.2)\n",
            "Requirement already satisfied: charset-normalizer<4,>=2 in /Users/ebengunadi/anaconda3/envs/grids-resume/lib/python3.9/site-packages (from requests->huggingface_hub==0.23.0) (3.4.0)\n",
            "Requirement already satisfied: idna<4,>=2.5 in /Users/ebengunadi/anaconda3/envs/grids-resume/lib/python3.9/site-packages (from requests->huggingface_hub==0.23.0) (3.10)\n",
            "Requirement already satisfied: urllib3<3,>=1.21.1 in /Users/ebengunadi/anaconda3/envs/grids-resume/lib/python3.9/site-packages (from requests->huggingface_hub==0.23.0) (2.3.0)\n",
            "Requirement already satisfied: certifi>=2017.4.17 in /Users/ebengunadi/anaconda3/envs/grids-resume/lib/python3.9/site-packages (from requests->huggingface_hub==0.23.0) (2024.12.14)\n",
            "Using cached huggingface_hub-0.23.0-py3-none-any.whl (401 kB)\n",
            "Installing collected packages: huggingface_hub\n",
            "  Attempting uninstall: huggingface_hub\n",
            "    Found existing installation: huggingface-hub 0.29.3\n",
            "    Uninstalling huggingface-hub-0.29.3:\n",
            "      Successfully uninstalled huggingface-hub-0.29.3\n",
            "\u001b[31mERROR: pip's dependency resolver does not currently take into account all the packages that are installed. This behaviour is the source of the following dependency conflicts.\n",
            "transformers 4.49.0 requires huggingface-hub<1.0,>=0.26.0, but you have huggingface-hub 0.23.0 which is incompatible.\u001b[0m\u001b[31m\n",
            "\u001b[0mSuccessfully installed huggingface_hub-0.23.0\n"
          ]
        }
      ],
      "source": [
        "!pip install huggingface_hub==0.23.0"
      ]
    },
    {
      "cell_type": "code",
      "execution_count": 18,
      "id": "5ff88979",
      "metadata": {},
      "outputs": [],
      "source": [
        "from getpass import getpass\n",
        "hf_key = getpass(\"Hugging Face Key: \")"
      ]
    },
    {
      "cell_type": "code",
      "execution_count": 19,
      "id": "9f827ec2",
      "metadata": {},
      "outputs": [
        {
          "name": "stderr",
          "output_type": "stream",
          "text": [
            "huggingface/tokenizers: The current process just got forked, after parallelism has already been used. Disabling parallelism to avoid deadlocks...\n",
            "To disable this warning, you can either:\n",
            "\t- Avoid using `tokenizers` before the fork if possible\n",
            "\t- Explicitly set the environment variable TOKENIZERS_PARALLELISM=(true | false)\n"
          ]
        },
        {
          "name": "stdout",
          "output_type": "stream",
          "text": [
            "The token has not been saved to the git credentials helper. Pass `add_to_git_credential=True` in this function directly or `--add-to-git-credential` if using via `huggingface-cli` if you want to set the git credential as well.\n",
            "Token is valid (permission: read).\n",
            "Your token has been saved to /Users/ebengunadi/.cache/huggingface/token\n",
            "Login successful\n"
          ]
        }
      ],
      "source": [
        "!huggingface-cli login --token $hf_key"
      ]
    },
    {
      "cell_type": "markdown",
      "id": "b5f095bb",
      "metadata": {},
      "source": [
        "## Importing LangChain Libraries."
      ]
    },
    {
      "cell_type": "code",
      "execution_count": 20,
      "id": "f9b732b9",
      "metadata": {},
      "outputs": [],
      "source": [
        "from langchain import PromptTemplate\n",
        "from langchain_core.output_parsers import StrOutputParser\n",
        "\n",
        "from langchain.llms import HuggingFacePipeline\n",
        "import transformers\n",
        "from transformers import AutoTokenizer, AutoModelForCausalLM, pipeline"
      ]
    },
    {
      "cell_type": "code",
      "execution_count": 21,
      "id": "b624f8fd",
      "metadata": {},
      "outputs": [],
      "source": [
        "import torch\n",
        "from torch import cuda"
      ]
    },
    {
      "cell_type": "code",
      "execution_count": 22,
      "id": "ebbb77a7",
      "metadata": {},
      "outputs": [],
      "source": [
        "#In a MAC Silicon the device must be 'mps'\n",
        "# device = torch.device('mps') #to use with MAC Silicon\n",
        "device = f'cuda:{cuda.current_device()}' if cuda.is_available() else 'cpu'"
      ]
    },
    {
      "cell_type": "code",
      "execution_count": 23,
      "id": "49fa3289",
      "metadata": {},
      "outputs": [
        {
          "data": {
            "text/plain": [
              "'cpu'"
            ]
          },
          "execution_count": 23,
          "metadata": {},
          "output_type": "execute_result"
        }
      ],
      "source": [
        "device"
      ]
    },
    {
      "cell_type": "markdown",
      "id": "30780dc3",
      "metadata": {},
      "source": [
        "##Load the Model ."
      ]
    },
    {
      "cell_type": "code",
      "execution_count": 24,
      "id": "1e0270e7",
      "metadata": {},
      "outputs": [],
      "source": [
        "#You can try with any llama model, but you will need more GPU and memory as you\n",
        "#increase the size of the model.\n",
        "model_id = \"meta-llama/Llama-3.2-1B-Instruct\" #As agreed per the 3/11/25 meeting"
      ]
    },
    {
      "cell_type": "code",
      "execution_count": 25,
      "id": "0166401b",
      "metadata": {},
      "outputs": [
        {
          "name": "stdout",
          "output_type": "stream",
          "text": [
            "Model loaded on cpu\n"
          ]
        }
      ],
      "source": [
        "%%time\n",
        "\n",
        "# begin initializing HF items, need auth token for these\n",
        "model_config = transformers.AutoConfig.from_pretrained(\n",
        "    model_id,\n",
        "    token=hf_key\n",
        ")\n",
        "\n",
        "model = AutoModelForCausalLM.from_pretrained(\n",
        "    model_id,\n",
        "    trust_remote_code=True,\n",
        "    config=model_config,\n",
        "    device_map='auto',\n",
        "    token=hf_key\n",
        ")\n",
        "model.eval()\n",
        "print(f\"Model loaded on {device}\")\n"
      ]
    },
    {
      "cell_type": "code",
      "execution_count": 26,
      "id": "40d1d0eb",
      "metadata": {},
      "outputs": [],
      "source": [
        "tokenizer = AutoTokenizer.from_pretrained(model_id,\n",
        "                                          use_aut_token=hf_key)\n"
      ]
    },
    {
      "cell_type": "code",
      "execution_count": 27,
      "id": "3543a5e5",
      "metadata": {},
      "outputs": [
        {
          "name": "stderr",
          "output_type": "stream",
          "text": [
            "Device set to use mps\n"
          ]
        }
      ],
      "source": [
        "pipe = pipeline(\n",
        "    \"text-generation\",\n",
        "    model=model,\n",
        "    tokenizer=tokenizer,\n",
        "    max_new_tokens=128,\n",
        "    temperature=0.1,\n",
        "    #do_sample=False,\n",
        "    top_p=0,\n",
        "    #trust_remote_code=True,\n",
        "    eos_token_id=tokenizer.eos_token_id,\n",
        "    repetition_penalty=1.1,\n",
        "    return_full_text=True,\n",
        "    device_map='auto'\n",
        ")\n",
        "\n",
        "hf_llm = HuggingFacePipeline(pipeline=pipe)"
      ]
    },
    {
      "cell_type": "markdown",
      "id": "c83a8eca",
      "metadata": {
        "id": "c83a8eca",
        "papermill": {
          "duration": 0.0364,
          "end_time": "2023-11-07T23:42:17.696923",
          "exception": false,
          "start_time": "2023-11-07T23:42:17.660523",
          "status": "completed"
        },
        "tags": []
      },
      "source": [
        "## Testing\n",
        "\n",
        "Query documents from Vector DB"
      ]
    },
    {
      "cell_type": "code",
      "execution_count": 38,
      "id": "1f2e8bd9",
      "metadata": {},
      "outputs": [
        {
          "name": "stdout",
          "output_type": "stream",
          "text": [
            "Doc 1:\n",
            "Microsoft Certified Professional, Tech Skills   :     June 1999            Associate of Science   :   Computer Technology  ,   June 1993    American River College          Computer Technology        Accomplishments      Guided company to comply with PCI Data Security Standard and got it certifiedMigrated Analog phone system to VOIP, saving over $40k a year in costMigrated 80% of physical servers to Hyper-V to save cost and improve productivity.        Skills    Active Directory, Adobe, Antivirus, Backup Exec, Backup, Budget, business processes, call center, call center, capacity planning, Cisco, computer assembly, Hardware, contracts, Direct Attached Storage, DAS, Database, Dell, Dell Servers, Designing, Desktops, Documentation, Firewall, HP, hiring, information systems, information systems, ISO 9000, Leadership, Linux, Logistics, Logistics and Management, Mac, MAC OS, Managing, Access, Microsoft Certified Professional, Microsoft Exchange, Microsoft Office Professional, office, Microsoft Project, Microsoft SQL, Microsoft Visio Professional, Windows 7, Windows 8, Windows, Enterprise, NAS, Network Attached Storage, Network Printers, Network, Networking, new product development, Operating Systems, PBX, PCI, Phone System, policies, Project Management, quality, quality assurance, quality improvement, QuickBooks Pro, Research, Robotic, safety, Storage Area Network, SAN, scheduling, Servers, Microsoft SQL Server, Symantec, teamwork, technical analysis, phones, Troubleshooting, upgrade, Visio Professional, vision, Web Portal, WAN\n",
            "\n",
            "Doc 2:\n",
            "         INFORMATION TECHNOLOGY PROVISIONING TECHNICIAN         Career Overview    Process driven, goal oriented, Information Security Leader with 5  years of IT and security experience. A self-motivated\n",
            "          Governance\n",
            "manager that is adept at analyzing and remediating threat vectors on an enterprise level. Bolsters corporate strategy, enhances\n",
            "daily security operations and delivers improved and optimized business protection, while leading a geographically diverse team\n",
            "adept at problem solving and risk analysis.\n",
            "          Audit and Control Establishment\n",
            "          Immediate Value Offered          Technical Acumen\n",
            " Maximize technology investment, effectively implement IT business strategy,         \n",
            " drive innovation, improve business processes, expand service & technical          STRATEGIC PLANNING & ENABLEMENT\n",
            " capabilities and maximize multi-million dollar cost savings      Qualifications        BUSINESS PROCESS IMPROVEMENTS\n",
            " Partner with teams to create efficient cross-functional processes by eliminating\n",
            "          CONTRACT NEGOTIATIONS\n",
            "          COST SAVINGS INITIATIVES AD, DNS, TCP/IP, Microsoft Exchange, Rapid7 Vulnerability Assessment Platform, Firewall, IDS/IPS, Web Filter/Proxy, Mail              Accomplishments      Influential change agent focused on renewing quality initiatives for complex IT         IT SOX GOVERNANCE & COMPLIANCE\n",
            " Outstanding Mentoring skills, adept at coaching junior and senior personnel,\n",
            " portfolios while collaborating cross-functionally and interdepartmentally\n",
            " increasing growth and confidence among team members\n",
            "          FINANCIAL POLICIES & FORECASTING\n",
            "          PROJECT Deployment & REPORTING\n",
            "          PROJECT SCOPE AND SCHEDULING\n",
            " Provide ongoing management of Information Security practices, specifications,\n",
            " and architecture design facilitating continuous organizational improvement\n",
            "          Security INFRASTRUCTURE\n",
            "          IT ANALYTICS & ORIENTATION\n",
            " Progressive experience with managing enterprise security initiatives and          \n",
            " culture and the development of appropriate audit procedures, policies,\n",
            " managing IT SOX governance & compliance to build a risk-based security\n",
            " escalation paths, tracking, documentation, and a highly trained team proficient\n",
            "          Management        Experience\n",
            " in enforcing key SOX requirements throughout the enterprise\n",
            "          PROGRAM MANAGEMENT\n",
            "          CROSS FUNCTIONAL COLLABORATION\n",
            " coupled with enterprise policy creation and negotiation acumen\n",
            " Possess comprehensive technical background and management experience          RESOURCES UTILIZATION\n",
            "          TRAINING & DEVELOPMENT\n",
            " Ensure business continuity and manage technology risks through information          CHANGE MANAGEMENT\n",
            " assurance scoping, raising security awareness, bolstering systems, deploying.        Work Experience        08/2013   to   11/2013    Company Name   －     State      McAfee EEPC).  Worked with multiple departments and executive teams to ensure a timely and complete roll-out of product.  Served as a technical lead and a tier 2 escalation resource for multiple applications and operating systems.  Support included\n",
            "    Windows (XP and 7), Linux (Red Hat), and Mac (OSX).  Administration, troubleshooting, reclamation, and issuance of RSA soft and hard tokens.  Served as main escalation point\n",
            "    for de-synchronization issues and hardware-based troubles.  Led the executive support team which provided \"white-glove\" support for director level and above\n",
            "    Active Directory administration ranging from SSO integration to forest creation, to simple user administration.  Identified,.          Information Technology Provisioning Technician  ,   10/2012   to   08/2013    Company Name   －   City  ,   State      researched and resolved AD issues relating to advanced administration and GPO creation.  Provided remote and local support to an employee base of over 7000 employees, contractors, and consultants.  Resolved\n",
            " complex hardware and software issues, and served as tier 2 and 3 support when needed.  Utilized multiple ticketing systems to track customer issues, including Numara Footprints and Kayako\n",
            " Provisioned, troubleshot, and repaired laptops, desktops, MiFi's, and corporate cellular phones\n",
            "    Managed the network operations center, which serviced upwards of 100 clients over multiple geographic locations with.          Information Technology Consultant  ,   12/2011   to   02/2013    Company Name   －   City  ,   State      varying degrees of service contracts, in significantly diverse environments.  Utilization of N-Central monitoring and patch management platform to audit and report on customer compliance and\n",
            "    software usage statistics to prepare and present recommendations to increase security and productivity of the business\n",
            "    Architected, implemented, and documented various Exchange and Active Directory deployments within each customer's\n",
            "    individual ecosystem, and tracked utilization statistics to increase revenue for the operations center.          Company Name   －   City  ,   State      Responsible for Enterprise Information Security and Architecture, Risk Management and Compliance, understanding business\n",
            "Information Security & Compliance Manager          SolarCity, SAN MATEO, CA          November 2013 - PRESENT\n",
            "issues and concerns, determining business and security requirements, designing architecture and applying Security Technologies\n",
            "to mitigate risk and ensure compliance with SolarCity policies and standards.  Implementation and administration of forensic imaging enterprise solution.  Utilized to conduct covert and overt collection and analysis of at-risk employees    Creation and maintenance of IT SOX\n",
            "    identified by our Legal team.  Governance and Compliance program\n",
            "    Outstanding mentoring skills, adept at coaching junior and senior personnel,\n",
            "    increasing growth and confidence among team members.  deployment of Vulnerability Assessment\n",
            "          Concept-to-completion driver for the\n",
            "          platform\n",
            "    Interdepartmental mediator focused on converting identified risks, divergent -\n",
            "    programming and non-compliant applications and software into enterprise-\n",
            "    level solutions complete with policy guidance and remediation measures\n",
            "          Vendor assessment, negotiation and then\n",
            "          implementation of an upgraded security\n",
            "    Managed Information Security projects, including planning and development of\n",
            "          platform including firewall, proxy,\n",
            "    new processes and technologies in areas of intrusion detection and response,\n",
            "          category-based filter and VPN\n",
            "    management of vulnerability assessment practices, and vpn authentication.  Reduced the total cost of ownership for our\n",
            "          Anti-Virus system by streamlining the\n",
            "    Identified technical/mobility improvements to physical security designs,          Author and maintain all Information\n",
            "          deployment and administration processes\n",
            "    providing a risk-based methodology, increased incident management landscape          Technology, and Information Security\n",
            "    and reduced operational expenditure          policies for the enterprise Administered and coordinated the conversion of existing whole disk encryption platform (Symantec PGP) to new platform.          Education and Training      Associates of Arts and Sciences (AAS)  :  Business Administration Software Technology      Business Administration Software Technology        Associates of Arts (AA)  :  Information Technology      Heald College          Information Technology        Associate of Applied Sciences (AAS)  :  Network Security      Heald College          Network Security        Comptia A  Certification\n",
            "Comptia Security  Certification                Skills    A  Certification, Active Directory, AD, Anti-Virus, BUSINESS PROCESS, coaching, Compliance Manager, CA, hardware, Concept, CONTRACT NEGOTIATIONS, contracts, conversion, encryption, clients, designing, desktops, Disaster Recovery, DNS, Firewall, functional, Gateway, IDS, imaging, Information Security, laptops, Legal, Linux, Mac, director, McAfee, mediator, mentoring, Exchange, Microsoft Exchange, Mail, Windows (XP, negotiation, Enterprise, network, Networking, operating systems, personnel, policies, processes, programming, Proxy, Red Hat, RELATIONSHIP BUILDING, Risk Management, SAN, statistics, Symantec, TCP/IP, Technical Trainer, phones, troubleshooting, VPN, Author   \n",
            "\n",
            "Doc 3:\n",
            "         INFORMATION TECHNOLOGY PROVISIONING TECHNICIAN         Career Overview    Process driven, goal oriented, Information Security Leader with 5  years of IT and security experience. A self-motivated\n",
            "          Governance\n",
            "manager that is adept at analyzing and remediating threat vectors on an enterprise level. Bolsters corporate strategy, enhances\n",
            "daily security operations and delivers improved and optimized business protection, while leading a geographically diverse team\n",
            "adept at problem solving and risk analysis.\n",
            "          Audit and Control Establishment\n",
            "          Immediate Value Offered          Technical Acumen\n",
            " Maximize technology investment, effectively implement IT business strategy,         \n",
            " drive innovation, improve business processes, expand service & technical          STRATEGIC PLANNING & ENABLEMENT\n",
            " capabilities and maximize multi-million dollar cost savings      Qualifications        BUSINESS PROCESS IMPROVEMENTS\n",
            " Partner with teams to create efficient cross-functional processes by eliminating\n",
            "          CONTRACT NEGOTIATIONS\n",
            "          COST SAVINGS INITIATIVES AD, DNS, TCP/IP, Microsoft Exchange, Rapid7 Vulnerability Assessment Platform, Firewall, IDS/IPS, Web Filter/Proxy, Mail              Accomplishments      Influential change agent focused on renewing quality initiatives for complex IT         IT SOX GOVERNANCE & COMPLIANCE\n",
            " Outstanding Mentoring skills, adept at coaching junior and senior personnel,\n",
            " portfolios while collaborating cross-functionally and interdepartmentally\n",
            " increasing growth and confidence among team members\n",
            "          FINANCIAL POLICIES & FORECASTING\n",
            "          PROJECT Deployment & REPORTING\n",
            "          PROJECT SCOPE AND SCHEDULING\n",
            " Provide ongoing management of Information Security practices, specifications,\n",
            " and architecture design facilitating continuous organizational improvement\n",
            "          Security INFRASTRUCTURE\n",
            "          IT ANALYTICS & ORIENTATION\n",
            " Progressive experience with managing enterprise security initiatives and          \n",
            " culture and the development of appropriate audit procedures, policies,\n",
            " managing IT SOX governance & compliance to build a risk-based security\n",
            " escalation paths, tracking, documentation, and a highly trained team proficient\n",
            "          Management        Experience\n",
            " in enforcing key SOX requirements throughout the enterprise\n",
            "          PROGRAM MANAGEMENT\n",
            "          CROSS FUNCTIONAL COLLABORATION\n",
            " coupled with enterprise policy creation and negotiation acumen\n",
            " Possess comprehensive technical background and management experience          RESOURCES UTILIZATION\n",
            "          TRAINING & DEVELOPMENT\n",
            " Ensure business continuity and manage technology risks through information          CHANGE MANAGEMENT\n",
            " assurance scoping, raising security awareness, bolstering systems, deploying.        Work Experience        08/2013   to   11/2013    Company Name   －     State      McAfee EEPC).  Worked with multiple departments and executive teams to ensure a timely and complete roll-out of product.  Served as a technical lead and a tier 2 escalation resource for multiple applications and operating systems.  Support included\n",
            "    Windows (XP and 7), Linux (Red Hat), and Mac (OSX).  Administration, troubleshooting, reclamation, and issuance of RSA soft and hard tokens.  Served as main escalation point\n",
            "    for de-synchronization issues and hardware-based troubles.  Led the executive support team which provided \"white-glove\" support for director level and above\n",
            "    Active Directory administration ranging from SSO integration to forest creation, to simple user administration.  Identified,.          Information Technology Provisioning Technician  ,   10/2012   to   08/2013    Company Name   －   City  ,   State      researched and resolved AD issues relating to advanced administration and GPO creation.  Provided remote and local support to an employee base of over 7000 employees, contractors, and consultants.  Resolved\n",
            " complex hardware and software issues, and served as tier 2 and 3 support when needed.  Utilized multiple ticketing systems to track customer issues, including Numara Footprints and Kayako\n",
            " Provisioned, troubleshot, and repaired laptops, desktops, MiFi's, and corporate cellular phones\n",
            "    Managed the network operations center, which serviced upwards of 100 clients over multiple geographic locations with.          Information Technology Consultant  ,   12/2011   to   02/2013    Company Name   －   City  ,   State      varying degrees of service contracts, in significantly diverse environments.  Utilization of N-Central monitoring and patch management platform to audit and report on customer compliance and\n",
            "    software usage statistics to prepare and present recommendations to increase security and productivity of the business\n",
            "    Architected, implemented, and documented various Exchange and Active Directory deployments within each customer's\n",
            "    individual ecosystem, and tracked utilization statistics to increase revenue for the operations center.          Company Name   －   City  ,   State      Responsible for Enterprise Information Security and Architecture, Risk Management and Compliance, understanding business\n",
            "Information Security & Compliance Manager          SolarCity, SAN MATEO, CA          November 2013 - PRESENT\n",
            "issues and concerns, determining business and security requirements, designing architecture and applying Security Technologies\n",
            "to mitigate risk and ensure compliance with SolarCity policies and standards.  Implementation and administration of forensic imaging enterprise solution.  Utilized to conduct covert and overt collection and analysis of at-risk employees    Creation and maintenance of IT SOX\n",
            "    identified by our Legal team.  Governance and Compliance program\n",
            "    Outstanding mentoring skills, adept at coaching junior and senior personnel,\n",
            "    increasing growth and confidence among team members.  deployment of Vulnerability Assessment\n",
            "          Concept-to-completion driver for the\n",
            "          platform\n",
            "    Interdepartmental mediator focused on converting identified risks, divergent -\n",
            "    programming and non-compliant applications and software into enterprise-\n",
            "    level solutions complete with policy guidance and remediation measures\n",
            "          Vendor assessment, negotiation and then\n",
            "          implementation of an upgraded security\n",
            "    Managed Information Security projects, including planning and development of\n",
            "          platform including firewall, proxy,\n",
            "    new processes and technologies in areas of intrusion detection and response,\n",
            "          category-based filter and VPN\n",
            "    management of vulnerability assessment practices, and vpn authentication.  Reduced the total cost of ownership for our\n",
            "          Anti-Virus system by streamlining the\n",
            "    Identified technical/mobility improvements to physical security designs,          Author and maintain all Information\n",
            "          deployment and administration processes\n",
            "    providing a risk-based methodology, increased incident management landscape          Technology, and Information Security\n",
            "    and reduced operational expenditure          policies for the enterprise Administered and coordinated the conversion of existing whole disk encryption platform (Symantec PGP) to new platform.          Education and Training      Associates of Arts and Sciences (AAS)  :  Business Administration Software Technology      Business Administration Software Technology        Associates of Arts (AA)  :  Information Technology      Heald College          Information Technology        Associate of Applied Sciences (AAS)  :  Network Security      Heald College          Network Security        Comptia A  Certification\n",
            "Comptia Security  Certification                Skills    A  Certification, Active Directory, AD, Anti-Virus, BUSINESS PROCESS, coaching, Compliance Manager, CA, hardware, Concept, CONTRACT NEGOTIATIONS, contracts, conversion, encryption, clients, designing, desktops, Disaster Recovery, DNS, Firewall, functional, Gateway, IDS, imaging, Information Security, laptops, Legal, Linux, Mac, director, McAfee, mediator, mentoring, Exchange, Microsoft Exchange, Mail, Windows (XP, negotiation, Enterprise, network, Networking, operating systems, personnel, policies, processes, programming, Proxy, Red Hat, RELATIONSHIP BUILDING, Risk Management, SAN, statistics, Symantec, TCP/IP, Technical Trainer, phones, troubleshooting, VPN, Author   \n",
            "\n",
            "Doc 4:\n",
            "INFORMATION TECHNOLOGY PROVISIONING TECHNICIAN         Career Overview    Process driven, goal oriented, Information Security Leader with 5  years of IT and security experience. A self-motivated\n",
            "          Governance\n",
            "manager that is adept at analyzing and remediating threat vectors on an enterprise level. Bolsters corporate strategy, enhances\n",
            "daily security operations and delivers improved and optimized business protection, while leading a geographically diverse team\n",
            "adept at problem solving and risk analysis.\n",
            "          Audit and Control Establishment\n",
            "          Immediate Value Offered          Technical Acumen\n",
            " Maximize technology investment, effectively implement IT business strategy,         \n",
            " drive innovation, improve business processes, expand service & technical          STRATEGIC PLANNING & ENABLEMENT\n",
            " capabilities and maximize multi-million dollar cost savings      Qualifications        BUSINESS PROCESS IMPROVEMENTS\n",
            " Partner with teams to create efficient cross-functional processes by eliminating\n",
            "          CONTRACT NEGOTIATIONS\n",
            "          COST SAVINGS INITIATIVES AD, DNS, TCP/IP, Microsoft Exchange, Rapid7 Vulnerability Assessment Platform, Firewall, IDS/IPS, Web Filter/Proxy, Mail              Accomplishments      Influential change agent focused on renewing quality initiatives for complex IT         IT SOX GOVERNANCE & COMPLIANCE\n",
            " Outstanding Mentoring skills, adept at coaching junior and senior personnel,\n",
            " portfolios while collaborating cross-functionally and interdepartmentally\n",
            " increasing growth and confidence among team members\n",
            "          FINANCIAL POLICIES & FORECASTING\n",
            "          PROJECT Deployment & REPORTING\n",
            "          PROJECT SCOPE AND SCHEDULING\n",
            " Provide ongoing management of Information Security practices, specifications,\n",
            " and architecture design facilitating continuous organizational improvement\n",
            "          Security INFRASTRUCTURE\n",
            "          IT ANALYTICS & ORIENTATION\n",
            " Progressive experience with managing enterprise security initiatives and          \n",
            " culture and the development of appropriate audit procedures, policies,\n",
            " managing IT SOX governance & compliance to build a risk-based security\n",
            " escalation paths, tracking, documentation, and a highly trained team proficient\n",
            "          Management        Experience\n",
            " in enforcing key SOX requirements throughout the enterprise\n",
            "          PROGRAM MANAGEMENT\n",
            "          CROSS FUNCTIONAL COLLABORATION\n",
            " coupled with enterprise policy creation and negotiation acumen\n",
            " Possess comprehensive technical background and management experience          RESOURCES UTILIZATION\n",
            "          TRAINING & DEVELOPMENT\n",
            " Ensure business continuity and manage technology risks through information          CHANGE MANAGEMENT\n",
            "\n"
          ]
        }
      ],
      "source": [
        "retrieved_docs = retriever.get_relevant_documents(\"Tech resume summary:\")\n",
        "for i, doc in enumerate(retrieved_docs):\n",
        "    print(f\"Doc {i+1}:\\n{doc.page_content}\\n\")"
      ]
    },
    {
      "cell_type": "markdown",
      "id": "a81a5222",
      "metadata": {},
      "source": [
        "Have LLM generate a summary without RAG"
      ]
    },
    {
      "cell_type": "code",
      "execution_count": 30,
      "id": "31a09784",
      "metadata": {},
      "outputs": [
        {
          "name": "stderr",
          "output_type": "stream",
          "text": [
            "/Users/ebengunadi/anaconda3/envs/grids-resume/lib/python3.9/site-packages/langchain_core/_api/deprecation.py:117: LangChainDeprecationWarning: The function `__call__` was deprecated in LangChain 0.1.7 and will be removed in 0.2.0. Use invoke instead.\n",
            "  warn_deprecated(\n",
            "Setting `pad_token_id` to `eos_token_id`:128009 for open-end generation.\n"
          ]
        },
        {
          "name": "stdout",
          "output_type": "stream",
          "text": [
            " Highlighting technical skills and experience in software development, data analysis, machine learning, cloud computing, cybersecurity, and IT infrastructure.\n",
            "\n",
            "**Summary**\n",
            "\n",
            "Highly skilled software developer with 5+ years of experience in designing, developing, testing, and deploying scalable and secure software applications. Proficient in a range of programming languages, including Java, Python, C++, and JavaScript. Strong expertise in data analysis using tools like Excel, SQL, and Tableau. Profound knowledge of machine learning algorithms and frameworks such as TensorFlow, PyTorch, and Scikit-learn. Skilled in cloud computing platforms like AWS, Azure, and Google Cloud Platform\n",
            "CPU times: user 7.71 s, sys: 1.21 s, total: 8.92 s\n",
            "Wall time: 16.5 s\n"
          ]
        }
      ],
      "source": [
        "%%time\n",
        "response = hf_llm(\"Tech resume summary:\")\n",
        "print(response)"
      ]
    },
    {
      "cell_type": "code",
      "execution_count": 39,
      "id": "941c2b12",
      "metadata": {},
      "outputs": [
        {
          "name": "stderr",
          "output_type": "stream",
          "text": [
            "Setting `pad_token_id` to `eos_token_id`:128009 for open-end generation.\n"
          ]
        },
        {
          "name": "stdout",
          "output_type": "stream",
          "text": [
            " What are some of your accomplishments in the field of information technology?\n",
            "\n",
            "Answer: Based on the provided tech resume, here are some of the notable accomplishments:\n",
            "\n",
            "* Designed and implemented a new security infrastructure, reducing costs by 30%\n",
            "* Developed and maintained a robust security architecture, ensuring compliance with industry standards\n",
            "* Implemented a new vulnerability assessment platform, resulting in a 50% reduction in security breaches\n",
            "* Coordinated the migration of 500+ users to a new email server, improving email efficiency and reducing downtime\n",
            "* Conducted a thorough risk assessment and developed a mitigation plan, identifying and addressing potential security threats\n",
            "* Collaborated with cross-functional\n",
            "CPU times: user 11.7 s, sys: 3.1 s, total: 14.8 s\n",
            "Wall time: 42.9 s\n"
          ]
        }
      ],
      "source": [
        "%%time\n",
        "\n",
        "# Function to clean and format retrieved documents\n",
        "def format_docs(docs):\n",
        "    return \"\\n\\n\".join([doc.page_content.strip() for doc in docs])\n",
        "\n",
        "# Update the LCEL chain\n",
        "chain = (\n",
        "    {\"context\": retriever | format_docs, \"question\": RunnablePassthrough()}  # Apply formatting\n",
        "    | ChatPromptTemplate.from_template(\n",
        "        \"Answer the question based on the following context:\\n{context}\\n\\nQuestion: {question}\"\n",
        "    )\n",
        "    | hf_llm\n",
        "    | StrOutputParser()\n",
        ")\n",
        "\n",
        "response = chain.invoke(\"Tech resume summary:\")\n",
        "print(response)"
      ]
    }
  ],
  "metadata": {
    "colab": {
      "machine_shape": "hm",
      "provenance": []
    },
    "kernelspec": {
      "display_name": "grids-resume",
      "language": "python",
      "name": "python3"
    },
    "language_info": {
      "codemirror_mode": {
        "name": "ipython",
        "version": 3
      },
      "file_extension": ".py",
      "mimetype": "text/x-python",
      "name": "python",
      "nbconvert_exporter": "python",
      "pygments_lexer": "ipython3",
      "version": "3.9.20"
    },
    "papermill": {
      "default_parameters": {},
      "duration": 301.368093,
      "end_time": "2023-11-07T23:43:39.05917",
      "environment_variables": {},
      "exception": null,
      "input_path": "__notebook__.ipynb",
      "output_path": "__notebook__.ipynb",
      "parameters": {},
      "start_time": "2023-11-07T23:38:37.691077",
      "version": "2.4.0"
    }
  },
  "nbformat": 4,
  "nbformat_minor": 5
}
